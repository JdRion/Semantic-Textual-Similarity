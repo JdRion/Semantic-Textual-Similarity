{
 "cells": [
  {
   "cell_type": "code",
   "execution_count": 10,
   "metadata": {},
   "outputs": [
    {
     "name": "stderr",
     "output_type": "stream",
     "text": [
      "Downloading config.json: 100%|██████████| 1.09k/1.09k [00:00<00:00, 789kB/s]\n",
      "Downloading pytorch_model.bin: 100%|██████████| 798M/798M [00:40<00:00, 20.4MB/s]  \n",
      "Downloading tokenizer_config.json: 100%|██████████| 326/326 [00:00<00:00, 222kB/s]\n",
      "Downloading source.spm: 100%|██████████| 771k/771k [00:00<00:00, 907kB/s]  \n",
      "Downloading target.spm: 100%|██████████| 796k/796k [00:02<00:00, 368kB/s]  \n",
      "Downloading vocab.json: 100%|██████████| 936k/936k [00:01<00:00, 779kB/s]  \n",
      "Downloading special_tokens_map.json: 100%|██████████| 74.0/74.0 [00:00<00:00, 44.5kB/s]\n"
     ]
    }
   ],
   "source": [
    "from tqdm.auto import tqdm\n",
    "from transformers import pipeline\n",
    "import pytorch_lightning as pl\n",
    "import pandas as pd\n",
    "\n",
    "model_to_en = pipeline('translation',model='Helsinki-NLP/opus-mt-ko-en')\n",
    "model_to_kr = #goggle translator"
   ]
  },
  {
   "cell_type": "code",
   "execution_count": 20,
   "metadata": {},
   "outputs": [],
   "source": [
    "df = pd.read_csv('../data/train.csv')\n",
    "temp = df.iloc[2,[2,3]]\n",
    "\n",
    "temp_en = model_to_en(list(temp))\n",
    "asd = [list(x.values())[0] for x in temp_en]\n",
    "\n",
    "temp_kr = model_to_kr(asd[1])"
   ]
  },
  {
   "cell_type": "code",
   "execution_count": 21,
   "metadata": {},
   "outputs": [
    {
     "data": {
      "text/plain": [
       "[{'translation_text': '이러한 변화는 물질대사의 중요한 변화이다.'}]"
      ]
     },
     "execution_count": 21,
     "metadata": {},
     "output_type": "execute_result"
    }
   ],
   "source": [
    "temp_kr"
   ]
  },
  {
   "cell_type": "code",
   "execution_count": 19,
   "metadata": {},
   "outputs": [
    {
     "data": {
      "text/plain": [
       "[{'translation_text': 'Please change the housing conditions.'},\n",
       " {'translation_text': 'Please change the housing standards.'}]"
      ]
     },
     "execution_count": 19,
     "metadata": {},
     "output_type": "execute_result"
    }
   ],
   "source": [
    "temp_en"
   ]
  },
  {
   "cell_type": "code",
   "execution_count": 22,
   "metadata": {},
   "outputs": [
    {
     "name": "stdout",
     "output_type": "stream",
     "text": [
      "[{'translation_text': '변수의 이름.'}]\n"
     ]
    }
   ],
   "source": [
    "print(model_to_kr(\"Please change the housing conditions\"))"
   ]
  },
  {
   "cell_type": "code",
   "execution_count": null,
   "metadata": {},
   "outputs": [],
   "source": []
  }
 ],
 "metadata": {
  "kernelspec": {
   "display_name": "Python 3.7.13 ('jt')",
   "language": "python",
   "name": "python3"
  },
  "language_info": {
   "codemirror_mode": {
    "name": "ipython",
    "version": 3
   },
   "file_extension": ".py",
   "mimetype": "text/x-python",
   "name": "python",
   "nbconvert_exporter": "python",
   "pygments_lexer": "ipython3",
   "version": "3.7.13"
  },
  "orig_nbformat": 4,
  "vscode": {
   "interpreter": {
    "hash": "ad6398f4a079717af4ccea37b02657ca00ccf7a172c7974380ef959e683dd091"
   }
  }
 },
 "nbformat": 4,
 "nbformat_minor": 2
}
