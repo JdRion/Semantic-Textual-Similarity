{
 "cells": [
  {
   "cell_type": "markdown",
   "metadata": {
    "id": "DbuHEdGI0hVu"
   },
   "source": [
    "**SETTING**"
   ]
  },
  {
   "cell_type": "code",
   "execution_count": null,
   "metadata": {
    "id": "wC-DwP4T06gM"
   },
   "outputs": [],
   "source": [
    "# !nvidia-smi"
   ]
  },
  {
   "cell_type": "code",
   "execution_count": 1,
   "metadata": {
    "executionInfo": {
     "elapsed": 3,
     "status": "ok",
     "timestamp": 1667418902314,
     "user": {
      "displayName": "DK Baeck",
      "userId": "11093285731816458344"
     },
     "user_tz": -540
    },
    "id": "BztE-Y490hVz"
   },
   "outputs": [],
   "source": [
    "import os\n",
    "import pandas as pd\n",
    "import numpy as np\n",
    "#os.chdir('./data')\n",
    "#os.getcwd()"
   ]
  },
  {
   "cell_type": "markdown",
   "metadata": {
    "id": "PauQUkoZ1YJz"
   },
   "source": [
    "구글 세팅"
   ]
  },
  {
   "cell_type": "code",
   "execution_count": 12,
   "metadata": {
    "executionInfo": {
     "elapsed": 7,
     "status": "ok",
     "timestamp": 1667418159354,
     "user": {
      "displayName": "DK Baeck",
      "userId": "11093285731816458344"
     },
     "user_tz": -540
    },
    "id": "QqD9do2H2XfL"
   },
   "outputs": [],
   "source": [
    "# !pip install transformers pororo kss wandb"
   ]
  },
  {
   "cell_type": "code",
   "execution_count": 2,
   "metadata": {
    "colab": {
     "base_uri": "https://localhost:8080/"
    },
    "executionInfo": {
     "elapsed": 3696,
     "status": "ok",
     "timestamp": 1667418907693,
     "user": {
      "displayName": "DK Baeck",
      "userId": "11093285731816458344"
     },
     "user_tz": -540
    },
    "id": "WnZsa_Sy1AFC",
    "outputId": "7b8386f3-f98c-40b4-8556-84ceeb4dada8"
   },
   "outputs": [
    {
     "name": "stdout",
     "output_type": "stream",
     "text": [
      "Drive already mounted at /content/drive; to attempt to forcibly remount, call drive.mount(\"/content/drive\", force_remount=True).\n"
     ]
    }
   ],
   "source": [
    "# from google.colab import drive\n",
    "# drive.mount('/content/drive')"
   ]
  },
  {
   "cell_type": "code",
   "execution_count": 3,
   "metadata": {
    "colab": {
     "base_uri": "https://localhost:8080/",
     "height": 35
    },
    "executionInfo": {
     "elapsed": 8,
     "status": "ok",
     "timestamp": 1667418907694,
     "user": {
      "displayName": "DK Baeck",
      "userId": "11093285731816458344"
     },
     "user_tz": -540
    },
    "id": "5hCGS9Mu1Fgo",
    "outputId": "2237a71b-4531-42cf-d210-3019ba35e33e"
   },
   "outputs": [
    {
     "data": {
      "application/vnd.google.colaboratory.intrinsic+json": {
       "type": "string"
      },
      "text/plain": [
       "'/content/drive/MyDrive/BoostCamp/project_lv1/data'"
      ]
     },
     "execution_count": 3,
     "metadata": {},
     "output_type": "execute_result"
    }
   ],
   "source": [
    "# os.chdir('./drive/MyDrive/BoostCamp/project_lv1/data')\n",
    "# os.getcwd()"
   ]
  },
  {
   "cell_type": "code",
   "execution_count": 4,
   "metadata": {
    "executionInfo": {
     "elapsed": 7,
     "status": "ok",
     "timestamp": 1667418907695,
     "user": {
      "displayName": "DK Baeck",
      "userId": "11093285731816458344"
     },
     "user_tz": -540
    },
    "id": "mVt8zmhS0hV1"
   },
   "outputs": [],
   "source": [
    "train_pd = pd.read_csv(\"train.csv\")\n",
    "#print(train_pd.info(),end='\\n\\n')"
   ]
  },
  {
   "cell_type": "markdown",
   "metadata": {
    "id": "kYP5654H0hV1"
   },
   "source": [
    "# **Preprocessing**\n",
    "참고 : https://wikidocs.net/92961   \n",
    "참고 : https://github.com/haven-jeon/PyKoSpacing   \n",
    "\n",
    "- spell_checker(맞춤법 교정) : 네이버 한글 맞춤법 검사기를 바탕으로 만들어진 패키지, 이 패키지는 띄어쓰기 또한 보정됨\n",
    "- Spacing(띄어쓰기 교정) : 대용량 코퍼스를 학습하여 만들어진 띄어쓰기 딥 러닝 모델로 준수한 성능을 가지고 있음"
   ]
  },
  {
   "cell_type": "markdown",
   "metadata": {
    "id": "dx_Gw_RL0hV2"
   },
   "source": [
    "> spell_checker 라이브러리만 사용할 계획 : 특수문자 제거 후, 맞춤법 및 띄어쓰기 교정"
   ]
  },
  {
   "cell_type": "code",
   "execution_count": 7,
   "metadata": {
    "executionInfo": {
     "elapsed": 1,
     "status": "ok",
     "timestamp": 1667417849026,
     "user": {
      "displayName": "DK Baeck",
      "userId": "11093285731816458344"
     },
     "user_tz": -540
    },
    "id": "2KRCspsr0hV2"
   },
   "outputs": [],
   "source": [
    "#!pip install git+https://github.com/ssut/py-hanspell.git\n",
    "# !pip install git+https://github.com/haven-jeon/PyKoSpacing.git\n",
    "from hanspell import spell_checker      \n",
    "#from pykospacing import Spacing : 설치 주의\n",
    "import re"
   ]
  },
  {
   "cell_type": "code",
   "execution_count": 9,
   "metadata": {
    "executionInfo": {
     "elapsed": 7,
     "status": "ok",
     "timestamp": 1667418158621,
     "user": {
      "displayName": "DK Baeck",
      "userId": "11093285731816458344"
     },
     "user_tz": -540
    },
    "id": "Z7lngqqO0hV3"
   },
   "outputs": [],
   "source": [
    "#1. 특수문자 제거 : 영어 살려둠 : pc방, LG전자, <\\PERSON> 같은 단어도 제거되기 때문에 영문자 제거 보류\n",
    "def remove(data):\n",
    "    data.sentence_1 = data.sentence_1.str.replace('[^\\uAC00-\\uD7A30-9a-zA-Z\\s]', '')\n",
    "    data.sentence_2 = data.sentence_2.str.replace('[^\\uAC00-\\uD7A30-9a-zA-Z\\s]', '')\n",
    "    return data\n",
    "\n",
    "#2.맞춤법 > 특수문자 제거 후 사용하기(ParseError 발생)\n",
    "def checker(data):\n",
    "    for ind in range(len(data)):\n",
    "        origin_1 = data.sentence_1[ind]\n",
    "        origin_2 = data.sentence_2[ind]\n",
    "        \n",
    "        spelled_sent_1 = spell_checker.check(origin_1).checked\n",
    "        spelled_sent_2 = spell_checker.check(origin_2).checked\n",
    "        \n",
    "        data.sentence_1[ind] = spelled_sent_1        # 변경\n",
    "        data.sentence_2[ind] = spelled_sent_2        # 변경\n",
    "        \n",
    "        # 확인용\n",
    "        print('\\n\\n[',ind,']origin:',origin_1,'\\n[',ind,']change :',data.sentence_1[ind])\n",
    "        \n",
    "        \n",
    "    return data\n",
    "\n",
    "## Spacing : 미사용 예정\n",
    "#3-1. 공백제거\n",
    "def blank_remove(data):\n",
    "    #공백제거\n",
    "    # for ind in range(len(data)):\n",
    "    #     data.sentence_1[ind] = data.sentence_1[ind].replace(' ','')\n",
    "    #     data.sentence_2[ind] = data.sentence_2[ind].replace(' ','')\n",
    "    data.sentence_1 = data.sentence_1.str.replace(' ','')\n",
    "    data.sentence_2 = data.sentence_2.str.replace(' ','')\n",
    "    return data\n",
    "\n",
    "#3-2. 띄어쓰기\n",
    "def re_spacing(data):\n",
    "    spacing = Spacing()\n",
    "    \n",
    "    for ind in range(len(data)):\n",
    "        data.sentence_1[ind] = spacing(data.sentence_1[ind])\n",
    "        data.sentence_2[ind] = spacing(data.sentence_2[ind])\n",
    "    return data\n",
    "\n",
    "#4 문장길이 0인 것 삭제 처리"
   ]
  },
  {
   "cell_type": "markdown",
   "metadata": {
    "id": "qAcbKRSA0hV4"
   },
   "source": [
    "### 1: 문장 교정"
   ]
  },
  {
   "cell_type": "markdown",
   "metadata": {
    "id": "IG1a3de_0hV5"
   },
   "source": [
    "- ch_train(spell_checker) : train_pd(특수문자 제거 후) > 맞춤법 교정&띄어쓰기\n",
    "- sp_train(Spacing) : train_pd > 띄어쓰기 교정"
   ]
  },
  {
   "cell_type": "code",
   "execution_count": null,
   "metadata": {
    "id": "nL-Bl5UM0hV5"
   },
   "outputs": [],
   "source": [
    "#1. 맞춤법 : 오래걸림\n",
    "#특수문자 제거 후, 맞춤법\n",
    "# re_data = remove(train_pd)\n",
    "# ch_train = checker(re_data)\n",
    "# ch_train\n",
    "\n",
    "#2. 공백제거 후, 띄어쓰기 : 오래걸림\n",
    "#bl_train = blank_remove(train_pd)\n",
    "#sp_train = re_spacing(bl_train)\n",
    "#sp_train[:20]"
   ]
  },
  {
   "cell_type": "markdown",
   "metadata": {
    "id": "DrbW7gys0hV6"
   },
   "source": [
    "데이터 확인"
   ]
  },
  {
   "cell_type": "code",
   "execution_count": null,
   "metadata": {
    "id": "Zq9PBqxG0hV6"
   },
   "outputs": [],
   "source": [
    "# ch_train"
   ]
  },
  {
   "cell_type": "markdown",
   "metadata": {
    "id": "6HzrGRjF0hV7"
   },
   "source": [
    "### 1-2 :문장길이 확인해서 제거할 것, 중복 확인하기"
   ]
  },
  {
   "cell_type": "code",
   "execution_count": null,
   "metadata": {
    "id": "JapXlgok0hV8"
   },
   "outputs": [],
   "source": [
    "# max_len = np.max(ch_train['sentence_1'].str.len())\n",
    "# min_len = np.min(ch_train['sentence_1'].str.len())\n",
    "# mean_len = np.mean(ch_train['sentence_1'].str.len())\n",
    "\n",
    "# print('Max sentence_1 Length: ', max_len)\n",
    "# print('Min sentence_1 Length: ', min_len)\n",
    "# print('Mean sentence_1 Lenght: ', mean_len, '\\n')\n",
    "\n",
    "# max_len = np.max(ch_train['sentence_2'].str.len())\n",
    "# min_len = np.min(ch_train['sentence_2'].str.len())\n",
    "# mean_len = np.mean(ch_train['sentence_2'].str.len())\n",
    "\n",
    "# print('Max sentence_2 Length: ', max_len)\n",
    "# print('Min sentence_2 Length: ', min_len)\n",
    "# print('Mean sentence_2 Lenght: ', mean_len)"
   ]
  },
  {
   "cell_type": "markdown",
   "metadata": {
    "id": "MBWLnK1F0hV8"
   },
   "source": [
    "- sentence_2 Length:  0 확인하기"
   ]
  },
  {
   "cell_type": "code",
   "execution_count": null,
   "metadata": {
    "id": "Otgi6nET0hV9"
   },
   "outputs": [],
   "source": [
    "# ch_train[ch_train['sentence_2'].str.len()==0]"
   ]
  },
  {
   "cell_type": "code",
   "execution_count": null,
   "metadata": {
    "id": "r2lf4Ti40hV9"
   },
   "outputs": [],
   "source": [
    "#원본\n",
    "# train_pd.loc[8140]"
   ]
  },
  {
   "cell_type": "markdown",
   "metadata": {
    "id": "moDFhJUw0hV9"
   },
   "source": [
    "- 결측값 제거하기 : 1 row 제거 >> 9323 rows"
   ]
  },
  {
   "cell_type": "code",
   "execution_count": null,
   "metadata": {
    "id": "JBFntqM20hV-"
   },
   "outputs": [],
   "source": [
    "# final_train = ch_train[ch_train[\"sentence_2\"] != \"\"]\n",
    "# final_train.info()"
   ]
  },
  {
   "cell_type": "code",
   "execution_count": null,
   "metadata": {
    "id": "bb6ikH4H0hV-"
   },
   "outputs": [],
   "source": [
    "# from collections import Counter\n",
    "# import matplotlib.pyplot as plt\n",
    "\n",
    "# plt.figure(figsize=(10,7.5))\n",
    "# plt.hist(final_train['sentence_1'].str.len(), alpha=0.5, color='orange',label = 'sentence_1')\n",
    "# plt.hist(final_train['sentence_2'].str.len(), alpha=0.5, color='#bce29e',label = 'sentence_2')\n",
    "# plt.legend()\n",
    "# #plt.tight_layout(rect=[0, 0.03, 1, 0.95]) # 레이아웃 설정\n",
    "\n",
    "# plt.show()"
   ]
  },
  {
   "cell_type": "markdown",
   "metadata": {
    "id": "B98ymSBP0hV-"
   },
   "source": [
    "# **DA**"
   ]
  },
  {
   "cell_type": "markdown",
   "metadata": {
    "id": "98llpzQG0hV-"
   },
   "source": [
    "### 1 :증강 exchange\n",
    "- add_train(18646 rows) : ch_train(특수문자제거, 문장교정 및 띄어쓰기) + 문장 교환으로 데이터 증강"
   ]
  },
  {
   "cell_type": "code",
   "execution_count": null,
   "metadata": {
    "id": "_EuMB5QG0hV_"
   },
   "outputs": [],
   "source": [
    "# # 주의\n",
    "# data_re = final_train\n",
    "\n",
    "# change_sent = pd.DataFrame({\n",
    "#     'id' : data_re['id'],\n",
    "#     'source' :data_re['source'],\n",
    "#     'sentence_1' :data_re['sentence_2'] ,\n",
    "#     'sentence_2' : data_re['sentence_1'],\n",
    "#     'label' : data_re['label'],\n",
    "#     'binary-label' : data_re['binary-label']\n",
    "#     })\n",
    "# add_train = pd.concat([data_re,change_sent],ignore_index=True)"
   ]
  },
  {
   "cell_type": "code",
   "execution_count": 5,
   "metadata": {
    "colab": {
     "base_uri": "https://localhost:8080/",
     "height": 658
    },
    "executionInfo": {
     "elapsed": 5,
     "status": "ok",
     "timestamp": 1667418913539,
     "user": {
      "displayName": "DK Baeck",
      "userId": "11093285731816458344"
     },
     "user_tz": -540
    },
    "id": "zVBGekcQ0hV_",
    "outputId": "720cd013-66ed-4d15-aef6-f9ff9192b495"
   },
   "outputs": [
    {
     "data": {
      "text/html": [
       "\n",
       "  <div id=\"df-daa099c8-955d-4065-8156-e60960846adf\">\n",
       "    <div class=\"colab-df-container\">\n",
       "      <div>\n",
       "<style scoped>\n",
       "    .dataframe tbody tr th:only-of-type {\n",
       "        vertical-align: middle;\n",
       "    }\n",
       "\n",
       "    .dataframe tbody tr th {\n",
       "        vertical-align: top;\n",
       "    }\n",
       "\n",
       "    .dataframe thead th {\n",
       "        text-align: right;\n",
       "    }\n",
       "</style>\n",
       "<table border=\"1\" class=\"dataframe\">\n",
       "  <thead>\n",
       "    <tr style=\"text-align: right;\">\n",
       "      <th></th>\n",
       "      <th>id</th>\n",
       "      <th>source</th>\n",
       "      <th>sentence_1</th>\n",
       "      <th>sentence_2</th>\n",
       "      <th>label</th>\n",
       "      <th>binary-label</th>\n",
       "    </tr>\n",
       "  </thead>\n",
       "  <tbody>\n",
       "    <tr>\n",
       "      <th>0</th>\n",
       "      <td>boostcamp-sts-v1-train-000</td>\n",
       "      <td>nsmc-sampled</td>\n",
       "      <td>스릴도 있고 반전도 있고 여느 한국 영화 쓰레기들하고는 차원이 다르네요</td>\n",
       "      <td>반전도 있고 사랑도 있고 재미도 있네요</td>\n",
       "      <td>2.2</td>\n",
       "      <td>0.0</td>\n",
       "    </tr>\n",
       "    <tr>\n",
       "      <th>1</th>\n",
       "      <td>boostcamp-sts-v1-train-001</td>\n",
       "      <td>slack-rtt</td>\n",
       "      <td>앗 제가 접근 권한이 없다고 뜹니다</td>\n",
       "      <td>오 액세스 권한이 없다고 합니다</td>\n",
       "      <td>4.2</td>\n",
       "      <td>1.0</td>\n",
       "    </tr>\n",
       "    <tr>\n",
       "      <th>2</th>\n",
       "      <td>boostcamp-sts-v1-train-002</td>\n",
       "      <td>petition-sampled</td>\n",
       "      <td>주택청약조건 변경해주세요</td>\n",
       "      <td>주택청약 무주택 기준 변경해주세요</td>\n",
       "      <td>2.4</td>\n",
       "      <td>0.0</td>\n",
       "    </tr>\n",
       "    <tr>\n",
       "      <th>3</th>\n",
       "      <td>boostcamp-sts-v1-train-003</td>\n",
       "      <td>slack-sampled</td>\n",
       "      <td>입사 후 처음 대면으로 만나 반가웠습니다</td>\n",
       "      <td>화상으로만 보다가 리얼로 만나니 정말 반가웠습니다</td>\n",
       "      <td>3.0</td>\n",
       "      <td>1.0</td>\n",
       "    </tr>\n",
       "    <tr>\n",
       "      <th>4</th>\n",
       "      <td>boostcamp-sts-v1-train-004</td>\n",
       "      <td>slack-sampled</td>\n",
       "      <td>뿌듯 뿌듯하네요</td>\n",
       "      <td>꼬옥 실제로 한번 뵈어요 뿌뿌뿌</td>\n",
       "      <td>0.0</td>\n",
       "      <td>0.0</td>\n",
       "    </tr>\n",
       "    <tr>\n",
       "      <th>...</th>\n",
       "      <td>...</td>\n",
       "      <td>...</td>\n",
       "      <td>...</td>\n",
       "      <td>...</td>\n",
       "      <td>...</td>\n",
       "      <td>...</td>\n",
       "    </tr>\n",
       "    <tr>\n",
       "      <th>18641</th>\n",
       "      <td>boostcamp-sts-v1-train-9319</td>\n",
       "      <td>petition-sampled</td>\n",
       "      <td>본인이 납부한 국민연금 금액을 기준으로 대출을 받을 수 있는 제도를 마련해 주세요</td>\n",
       "      <td>교원능력개발평가에서 교원이 보호받을 수 있는 장치를 마련해야 합니다</td>\n",
       "      <td>0.2</td>\n",
       "      <td>0.0</td>\n",
       "    </tr>\n",
       "    <tr>\n",
       "      <th>18642</th>\n",
       "      <td>boostcamp-sts-v1-train-9320</td>\n",
       "      <td>petition-sampled</td>\n",
       "      <td>여성가족부 폐지를 청원합니다</td>\n",
       "      <td>여성가족부의 폐지를 원합 니드</td>\n",
       "      <td>4.2</td>\n",
       "      <td>1.0</td>\n",
       "    </tr>\n",
       "    <tr>\n",
       "      <th>18643</th>\n",
       "      <td>boostcamp-sts-v1-train-9321</td>\n",
       "      <td>petition-sampled</td>\n",
       "      <td>공무원 봉급 좀 줄이지 좀 마세요</td>\n",
       "      <td>국회의원들 월급 좀 줄여주세요</td>\n",
       "      <td>0.6</td>\n",
       "      <td>0.0</td>\n",
       "    </tr>\n",
       "    <tr>\n",
       "      <th>18644</th>\n",
       "      <td>boostcamp-sts-v1-train-9322</td>\n",
       "      <td>slack-sampled</td>\n",
       "      <td>오늘 못 먹은 밥은 꼭 담에 먹기로 하고요</td>\n",
       "      <td>오늘 못한 점심은 다음에 다시 트라이 하기로 해요</td>\n",
       "      <td>3.2</td>\n",
       "      <td>1.0</td>\n",
       "    </tr>\n",
       "    <tr>\n",
       "      <th>18645</th>\n",
       "      <td>boostcamp-sts-v1-train-9323</td>\n",
       "      <td>petition-sampled</td>\n",
       "      <td>법정공휴일의 유급휴무화를 막아야 합니다</td>\n",
       "      <td>법정공휴일 휴무 관련 근로자</td>\n",
       "      <td>1.4</td>\n",
       "      <td>0.0</td>\n",
       "    </tr>\n",
       "  </tbody>\n",
       "</table>\n",
       "<p>18646 rows × 6 columns</p>\n",
       "</div>\n",
       "      <button class=\"colab-df-convert\" onclick=\"convertToInteractive('df-daa099c8-955d-4065-8156-e60960846adf')\"\n",
       "              title=\"Convert this dataframe to an interactive table.\"\n",
       "              style=\"display:none;\">\n",
       "        \n",
       "  <svg xmlns=\"http://www.w3.org/2000/svg\" height=\"24px\"viewBox=\"0 0 24 24\"\n",
       "       width=\"24px\">\n",
       "    <path d=\"M0 0h24v24H0V0z\" fill=\"none\"/>\n",
       "    <path d=\"M18.56 5.44l.94 2.06.94-2.06 2.06-.94-2.06-.94-.94-2.06-.94 2.06-2.06.94zm-11 1L8.5 8.5l.94-2.06 2.06-.94-2.06-.94L8.5 2.5l-.94 2.06-2.06.94zm10 10l.94 2.06.94-2.06 2.06-.94-2.06-.94-.94-2.06-.94 2.06-2.06.94z\"/><path d=\"M17.41 7.96l-1.37-1.37c-.4-.4-.92-.59-1.43-.59-.52 0-1.04.2-1.43.59L10.3 9.45l-7.72 7.72c-.78.78-.78 2.05 0 2.83L4 21.41c.39.39.9.59 1.41.59.51 0 1.02-.2 1.41-.59l7.78-7.78 2.81-2.81c.8-.78.8-2.07 0-2.86zM5.41 20L4 18.59l7.72-7.72 1.47 1.35L5.41 20z\"/>\n",
       "  </svg>\n",
       "      </button>\n",
       "      \n",
       "  <style>\n",
       "    .colab-df-container {\n",
       "      display:flex;\n",
       "      flex-wrap:wrap;\n",
       "      gap: 12px;\n",
       "    }\n",
       "\n",
       "    .colab-df-convert {\n",
       "      background-color: #E8F0FE;\n",
       "      border: none;\n",
       "      border-radius: 50%;\n",
       "      cursor: pointer;\n",
       "      display: none;\n",
       "      fill: #1967D2;\n",
       "      height: 32px;\n",
       "      padding: 0 0 0 0;\n",
       "      width: 32px;\n",
       "    }\n",
       "\n",
       "    .colab-df-convert:hover {\n",
       "      background-color: #E2EBFA;\n",
       "      box-shadow: 0px 1px 2px rgba(60, 64, 67, 0.3), 0px 1px 3px 1px rgba(60, 64, 67, 0.15);\n",
       "      fill: #174EA6;\n",
       "    }\n",
       "\n",
       "    [theme=dark] .colab-df-convert {\n",
       "      background-color: #3B4455;\n",
       "      fill: #D2E3FC;\n",
       "    }\n",
       "\n",
       "    [theme=dark] .colab-df-convert:hover {\n",
       "      background-color: #434B5C;\n",
       "      box-shadow: 0px 1px 3px 1px rgba(0, 0, 0, 0.15);\n",
       "      filter: drop-shadow(0px 1px 2px rgba(0, 0, 0, 0.3));\n",
       "      fill: #FFFFFF;\n",
       "    }\n",
       "  </style>\n",
       "\n",
       "      <script>\n",
       "        const buttonEl =\n",
       "          document.querySelector('#df-daa099c8-955d-4065-8156-e60960846adf button.colab-df-convert');\n",
       "        buttonEl.style.display =\n",
       "          google.colab.kernel.accessAllowed ? 'block' : 'none';\n",
       "\n",
       "        async function convertToInteractive(key) {\n",
       "          const element = document.querySelector('#df-daa099c8-955d-4065-8156-e60960846adf');\n",
       "          const dataTable =\n",
       "            await google.colab.kernel.invokeFunction('convertToInteractive',\n",
       "                                                     [key], {});\n",
       "          if (!dataTable) return;\n",
       "\n",
       "          const docLinkHtml = 'Like what you see? Visit the ' +\n",
       "            '<a target=\"_blank\" href=https://colab.research.google.com/notebooks/data_table.ipynb>data table notebook</a>'\n",
       "            + ' to learn more about interactive tables.';\n",
       "          element.innerHTML = '';\n",
       "          dataTable['output_type'] = 'display_data';\n",
       "          await google.colab.output.renderOutput(dataTable, element);\n",
       "          const docLink = document.createElement('div');\n",
       "          docLink.innerHTML = docLinkHtml;\n",
       "          element.appendChild(docLink);\n",
       "        }\n",
       "      </script>\n",
       "    </div>\n",
       "  </div>\n",
       "  "
      ],
      "text/plain": [
       "                                id            source  \\\n",
       "0       boostcamp-sts-v1-train-000      nsmc-sampled   \n",
       "1       boostcamp-sts-v1-train-001         slack-rtt   \n",
       "2       boostcamp-sts-v1-train-002  petition-sampled   \n",
       "3       boostcamp-sts-v1-train-003     slack-sampled   \n",
       "4       boostcamp-sts-v1-train-004     slack-sampled   \n",
       "...                            ...               ...   \n",
       "18641  boostcamp-sts-v1-train-9319  petition-sampled   \n",
       "18642  boostcamp-sts-v1-train-9320  petition-sampled   \n",
       "18643  boostcamp-sts-v1-train-9321  petition-sampled   \n",
       "18644  boostcamp-sts-v1-train-9322     slack-sampled   \n",
       "18645  boostcamp-sts-v1-train-9323  petition-sampled   \n",
       "\n",
       "                                          sentence_1  \\\n",
       "0            스릴도 있고 반전도 있고 여느 한국 영화 쓰레기들하고는 차원이 다르네요   \n",
       "1                                앗 제가 접근 권한이 없다고 뜹니다   \n",
       "2                                      주택청약조건 변경해주세요   \n",
       "3                             입사 후 처음 대면으로 만나 반가웠습니다   \n",
       "4                                           뿌듯 뿌듯하네요   \n",
       "...                                              ...   \n",
       "18641  본인이 납부한 국민연금 금액을 기준으로 대출을 받을 수 있는 제도를 마련해 주세요   \n",
       "18642                                여성가족부 폐지를 청원합니다   \n",
       "18643                             공무원 봉급 좀 줄이지 좀 마세요   \n",
       "18644                        오늘 못 먹은 밥은 꼭 담에 먹기로 하고요   \n",
       "18645                          법정공휴일의 유급휴무화를 막아야 합니다   \n",
       "\n",
       "                                  sentence_2  label  binary-label  \n",
       "0                      반전도 있고 사랑도 있고 재미도 있네요    2.2           0.0  \n",
       "1                          오 액세스 권한이 없다고 합니다    4.2           1.0  \n",
       "2                         주택청약 무주택 기준 변경해주세요    2.4           0.0  \n",
       "3                화상으로만 보다가 리얼로 만나니 정말 반가웠습니다    3.0           1.0  \n",
       "4                          꼬옥 실제로 한번 뵈어요 뿌뿌뿌    0.0           0.0  \n",
       "...                                      ...    ...           ...  \n",
       "18641  교원능력개발평가에서 교원이 보호받을 수 있는 장치를 마련해야 합니다    0.2           0.0  \n",
       "18642                       여성가족부의 폐지를 원합 니드    4.2           1.0  \n",
       "18643                       국회의원들 월급 좀 줄여주세요    0.6           0.0  \n",
       "18644            오늘 못한 점심은 다음에 다시 트라이 하기로 해요    3.2           1.0  \n",
       "18645                        법정공휴일 휴무 관련 근로자    1.4           0.0  \n",
       "\n",
       "[18646 rows x 6 columns]"
      ]
     },
     "execution_count": 5,
     "metadata": {},
     "output_type": "execute_result"
    }
   ],
   "source": [
    "#add_train.to_csv('add_train.csv',index=False)\n",
    "add_train = pd.read_csv(\"add_train.csv\")\n",
    "add_train"
   ]
  },
  {
   "cell_type": "markdown",
   "metadata": {
    "id": "EKT3Q3NG0hV_"
   },
   "source": [
    "## 2 :Back Translation (with Pororo MT) \n",
    "1참조 : https://dacon.io/competitions/official/235875/codeshare/4625?page=1&dtype=recent   \n",
    "2참조 : https://github.com/rickiepark/nlp-with-pytorch/blob/main/pororo_nlp.ipynb   \n",
    "\n",
    "- 2021년 초에 카카오브레인(https://www.kakaobrain.com/)에서 다양한 한글 자연어 처리 작업을 위한 pororo('뽀로로'라고 읽음)(https://github.com/kakaobrain/pororo) 파이썬 라이브러리\n",
    "- 기계번역은 페이스북에서 만든 fairseq의 TransformerModel모델의 사용함\n",
    "- source가 rtt인 데이터만 역변환 시도\n",
    "- pororo_train"
   ]
  },
  {
   "cell_type": "markdown",
   "metadata": {
    "id": "af-0r9B20hV_"
   },
   "source": [
    "### 2-1 :역번역할 데이터셋 구축 : rtt (5302 rows)"
   ]
  },
  {
   "cell_type": "code",
   "execution_count": 6,
   "metadata": {
    "colab": {
     "base_uri": "https://localhost:8080/",
     "height": 572
    },
    "executionInfo": {
     "elapsed": 523,
     "status": "ok",
     "timestamp": 1667418917198,
     "user": {
      "displayName": "DK Baeck",
      "userId": "11093285731816458344"
     },
     "user_tz": -540
    },
    "id": "XXse3sJP0hV_",
    "outputId": "660fa9a0-b34b-47e8-f85d-e851be963b6e"
   },
   "outputs": [
    {
     "data": {
      "text/html": [
       "\n",
       "  <div id=\"df-0aa42c6d-661f-443f-8641-50cc8f1508d8\">\n",
       "    <div class=\"colab-df-container\">\n",
       "      <div>\n",
       "<style scoped>\n",
       "    .dataframe tbody tr th:only-of-type {\n",
       "        vertical-align: middle;\n",
       "    }\n",
       "\n",
       "    .dataframe tbody tr th {\n",
       "        vertical-align: top;\n",
       "    }\n",
       "\n",
       "    .dataframe thead th {\n",
       "        text-align: right;\n",
       "    }\n",
       "</style>\n",
       "<table border=\"1\" class=\"dataframe\">\n",
       "  <thead>\n",
       "    <tr style=\"text-align: right;\">\n",
       "      <th></th>\n",
       "      <th>id</th>\n",
       "      <th>source</th>\n",
       "      <th>sentence_1</th>\n",
       "      <th>sentence_2</th>\n",
       "      <th>label</th>\n",
       "      <th>binary-label</th>\n",
       "    </tr>\n",
       "  </thead>\n",
       "  <tbody>\n",
       "    <tr>\n",
       "      <th>1</th>\n",
       "      <td>boostcamp-sts-v1-train-001</td>\n",
       "      <td>slack-rtt</td>\n",
       "      <td>앗 제가 접근 권한이 없다고 뜹니다</td>\n",
       "      <td>오 액세스 권한이 없다고 합니다</td>\n",
       "      <td>4.2</td>\n",
       "      <td>1.0</td>\n",
       "    </tr>\n",
       "    <tr>\n",
       "      <th>5</th>\n",
       "      <td>boostcamp-sts-v1-train-005</td>\n",
       "      <td>nsmc-rtt</td>\n",
       "      <td>오마이가뜨지져스크롸이스트휏</td>\n",
       "      <td>오 마이 갓 지저스 스트론 이스트 팬</td>\n",
       "      <td>2.6</td>\n",
       "      <td>1.0</td>\n",
       "    </tr>\n",
       "    <tr>\n",
       "      <th>6</th>\n",
       "      <td>boostcamp-sts-v1-train-006</td>\n",
       "      <td>slack-rtt</td>\n",
       "      <td>전 암만 찍어도 까만 하늘</td>\n",
       "      <td>암만 찍어도 하늘은 까맣다</td>\n",
       "      <td>3.6</td>\n",
       "      <td>1.0</td>\n",
       "    </tr>\n",
       "    <tr>\n",
       "      <th>10</th>\n",
       "      <td>boostcamp-sts-v1-train-010</td>\n",
       "      <td>slack-rtt</td>\n",
       "      <td>그 책부터 얼른 꺼내봐야겠어요</td>\n",
       "      <td>책에서 꺼내야겠어요</td>\n",
       "      <td>2.4</td>\n",
       "      <td>0.0</td>\n",
       "    </tr>\n",
       "    <tr>\n",
       "      <th>12</th>\n",
       "      <td>boostcamp-sts-v1-train-012</td>\n",
       "      <td>nsmc-rtt</td>\n",
       "      <td>오랜만에 존 큐잭의 연기 보니 좋네요 Good</td>\n",
       "      <td>오랜만에 존 큐잭의 연기를 보니 반갑다 좋아요</td>\n",
       "      <td>3.8</td>\n",
       "      <td>1.0</td>\n",
       "    </tr>\n",
       "    <tr>\n",
       "      <th>...</th>\n",
       "      <td>...</td>\n",
       "      <td>...</td>\n",
       "      <td>...</td>\n",
       "      <td>...</td>\n",
       "      <td>...</td>\n",
       "      <td>...</td>\n",
       "    </tr>\n",
       "    <tr>\n",
       "      <th>18619</th>\n",
       "      <td>boostcamp-sts-v1-train-9297</td>\n",
       "      <td>slack-rtt</td>\n",
       "      <td>오늘은 날씨가 너무 좋았어 굿굿</td>\n",
       "      <td>크 오늘 날씨 너무 좋았는데 대박</td>\n",
       "      <td>4.0</td>\n",
       "      <td>1.0</td>\n",
       "    </tr>\n",
       "    <tr>\n",
       "      <th>18620</th>\n",
       "      <td>boostcamp-sts-v1-train-9298</td>\n",
       "      <td>petition-rtt</td>\n",
       "      <td>북한 연락사무소 리모델링 97억 8000만 원 급하니까 나중에 계산할게</td>\n",
       "      <td>북한 연락사무소 리모델링 97억 8천만 원 시급한 일이라 사후 계산한다고</td>\n",
       "      <td>4.2</td>\n",
       "      <td>1.0</td>\n",
       "    </tr>\n",
       "    <tr>\n",
       "      <th>18626</th>\n",
       "      <td>boostcamp-sts-v1-train-9304</td>\n",
       "      <td>petition-rtt</td>\n",
       "      <td>독도가 표시된 한반도기 사용</td>\n",
       "      <td>독도 표시된 한반도기 사용</td>\n",
       "      <td>5.0</td>\n",
       "      <td>1.0</td>\n",
       "    </tr>\n",
       "    <tr>\n",
       "      <th>18629</th>\n",
       "      <td>boostcamp-sts-v1-train-9307</td>\n",
       "      <td>slack-rtt</td>\n",
       "      <td>프로젝트 멘토를 만난 기분으로 인사를 받았습니다</td>\n",
       "      <td>프로젝트 멘토님을 뵙는 느낌으로 영접하였습니다</td>\n",
       "      <td>2.8</td>\n",
       "      <td>1.0</td>\n",
       "    </tr>\n",
       "    <tr>\n",
       "      <th>18640</th>\n",
       "      <td>boostcamp-sts-v1-train-9318</td>\n",
       "      <td>petition-rtt</td>\n",
       "      <td>Warmad 회원에 대한 테러 방지법 적용을 검토하십시오</td>\n",
       "      <td>워마드 회원에 대해 테러방지법 적용을 검토해주세요</td>\n",
       "      <td>4.4</td>\n",
       "      <td>1.0</td>\n",
       "    </tr>\n",
       "  </tbody>\n",
       "</table>\n",
       "<p>5302 rows × 6 columns</p>\n",
       "</div>\n",
       "      <button class=\"colab-df-convert\" onclick=\"convertToInteractive('df-0aa42c6d-661f-443f-8641-50cc8f1508d8')\"\n",
       "              title=\"Convert this dataframe to an interactive table.\"\n",
       "              style=\"display:none;\">\n",
       "        \n",
       "  <svg xmlns=\"http://www.w3.org/2000/svg\" height=\"24px\"viewBox=\"0 0 24 24\"\n",
       "       width=\"24px\">\n",
       "    <path d=\"M0 0h24v24H0V0z\" fill=\"none\"/>\n",
       "    <path d=\"M18.56 5.44l.94 2.06.94-2.06 2.06-.94-2.06-.94-.94-2.06-.94 2.06-2.06.94zm-11 1L8.5 8.5l.94-2.06 2.06-.94-2.06-.94L8.5 2.5l-.94 2.06-2.06.94zm10 10l.94 2.06.94-2.06 2.06-.94-2.06-.94-.94-2.06-.94 2.06-2.06.94z\"/><path d=\"M17.41 7.96l-1.37-1.37c-.4-.4-.92-.59-1.43-.59-.52 0-1.04.2-1.43.59L10.3 9.45l-7.72 7.72c-.78.78-.78 2.05 0 2.83L4 21.41c.39.39.9.59 1.41.59.51 0 1.02-.2 1.41-.59l7.78-7.78 2.81-2.81c.8-.78.8-2.07 0-2.86zM5.41 20L4 18.59l7.72-7.72 1.47 1.35L5.41 20z\"/>\n",
       "  </svg>\n",
       "      </button>\n",
       "      \n",
       "  <style>\n",
       "    .colab-df-container {\n",
       "      display:flex;\n",
       "      flex-wrap:wrap;\n",
       "      gap: 12px;\n",
       "    }\n",
       "\n",
       "    .colab-df-convert {\n",
       "      background-color: #E8F0FE;\n",
       "      border: none;\n",
       "      border-radius: 50%;\n",
       "      cursor: pointer;\n",
       "      display: none;\n",
       "      fill: #1967D2;\n",
       "      height: 32px;\n",
       "      padding: 0 0 0 0;\n",
       "      width: 32px;\n",
       "    }\n",
       "\n",
       "    .colab-df-convert:hover {\n",
       "      background-color: #E2EBFA;\n",
       "      box-shadow: 0px 1px 2px rgba(60, 64, 67, 0.3), 0px 1px 3px 1px rgba(60, 64, 67, 0.15);\n",
       "      fill: #174EA6;\n",
       "    }\n",
       "\n",
       "    [theme=dark] .colab-df-convert {\n",
       "      background-color: #3B4455;\n",
       "      fill: #D2E3FC;\n",
       "    }\n",
       "\n",
       "    [theme=dark] .colab-df-convert:hover {\n",
       "      background-color: #434B5C;\n",
       "      box-shadow: 0px 1px 3px 1px rgba(0, 0, 0, 0.15);\n",
       "      filter: drop-shadow(0px 1px 2px rgba(0, 0, 0, 0.3));\n",
       "      fill: #FFFFFF;\n",
       "    }\n",
       "  </style>\n",
       "\n",
       "      <script>\n",
       "        const buttonEl =\n",
       "          document.querySelector('#df-0aa42c6d-661f-443f-8641-50cc8f1508d8 button.colab-df-convert');\n",
       "        buttonEl.style.display =\n",
       "          google.colab.kernel.accessAllowed ? 'block' : 'none';\n",
       "\n",
       "        async function convertToInteractive(key) {\n",
       "          const element = document.querySelector('#df-0aa42c6d-661f-443f-8641-50cc8f1508d8');\n",
       "          const dataTable =\n",
       "            await google.colab.kernel.invokeFunction('convertToInteractive',\n",
       "                                                     [key], {});\n",
       "          if (!dataTable) return;\n",
       "\n",
       "          const docLinkHtml = 'Like what you see? Visit the ' +\n",
       "            '<a target=\"_blank\" href=https://colab.research.google.com/notebooks/data_table.ipynb>data table notebook</a>'\n",
       "            + ' to learn more about interactive tables.';\n",
       "          element.innerHTML = '';\n",
       "          dataTable['output_type'] = 'display_data';\n",
       "          await google.colab.output.renderOutput(dataTable, element);\n",
       "          const docLink = document.createElement('div');\n",
       "          docLink.innerHTML = docLinkHtml;\n",
       "          element.appendChild(docLink);\n",
       "        }\n",
       "      </script>\n",
       "    </div>\n",
       "  </div>\n",
       "  "
      ],
      "text/plain": [
       "                                id        source  \\\n",
       "1       boostcamp-sts-v1-train-001     slack-rtt   \n",
       "5       boostcamp-sts-v1-train-005      nsmc-rtt   \n",
       "6       boostcamp-sts-v1-train-006     slack-rtt   \n",
       "10      boostcamp-sts-v1-train-010     slack-rtt   \n",
       "12      boostcamp-sts-v1-train-012      nsmc-rtt   \n",
       "...                            ...           ...   \n",
       "18619  boostcamp-sts-v1-train-9297     slack-rtt   \n",
       "18620  boostcamp-sts-v1-train-9298  petition-rtt   \n",
       "18626  boostcamp-sts-v1-train-9304  petition-rtt   \n",
       "18629  boostcamp-sts-v1-train-9307     slack-rtt   \n",
       "18640  boostcamp-sts-v1-train-9318  petition-rtt   \n",
       "\n",
       "                                     sentence_1  \\\n",
       "1                           앗 제가 접근 권한이 없다고 뜹니다   \n",
       "5                                오마이가뜨지져스크롸이스트휏   \n",
       "6                               전 암만 찍어도 까만 하늘    \n",
       "10                             그 책부터 얼른 꺼내봐야겠어요   \n",
       "12                    오랜만에 존 큐잭의 연기 보니 좋네요 Good   \n",
       "...                                         ...   \n",
       "18619                         오늘은 날씨가 너무 좋았어 굿굿   \n",
       "18620  북한 연락사무소 리모델링 97억 8000만 원 급하니까 나중에 계산할게    \n",
       "18626                           독도가 표시된 한반도기 사용   \n",
       "18629                프로젝트 멘토를 만난 기분으로 인사를 받았습니다   \n",
       "18640           Warmad 회원에 대한 테러 방지법 적용을 검토하십시오   \n",
       "\n",
       "                                     sentence_2  label  binary-label  \n",
       "1                             오 액세스 권한이 없다고 합니다    4.2           1.0  \n",
       "5                          오 마이 갓 지저스 스트론 이스트 팬    2.6           1.0  \n",
       "6                               암만 찍어도 하늘은 까맣다     3.6           1.0  \n",
       "10                                   책에서 꺼내야겠어요    2.4           0.0  \n",
       "12                    오랜만에 존 큐잭의 연기를 보니 반갑다 좋아요    3.8           1.0  \n",
       "...                                         ...    ...           ...  \n",
       "18619                        크 오늘 날씨 너무 좋았는데 대박    4.0           1.0  \n",
       "18620  북한 연락사무소 리모델링 97억 8천만 원 시급한 일이라 사후 계산한다고    4.2           1.0  \n",
       "18626                            독도 표시된 한반도기 사용    5.0           1.0  \n",
       "18629                 프로젝트 멘토님을 뵙는 느낌으로 영접하였습니다    2.8           1.0  \n",
       "18640               워마드 회원에 대해 테러방지법 적용을 검토해주세요    4.4           1.0  \n",
       "\n",
       "[5302 rows x 6 columns]"
      ]
     },
     "execution_count": 6,
     "metadata": {},
     "output_type": "execute_result"
    }
   ],
   "source": [
    "mt_list = ['slack-rtt','petition-rtt','nsmc-rtt']       # 2092/ 1634 /1576 == 5302 rows\n",
    "mt_data = add_train[add_train.source.isin(mt_list)]\n",
    "mt_data"
   ]
  },
  {
   "cell_type": "markdown",
   "metadata": {
    "id": "eLqPtaXN0hWA"
   },
   "source": [
    "### 2-2 :뽀로로"
   ]
  },
  {
   "cell_type": "code",
   "execution_count": 16,
   "metadata": {
    "executionInfo": {
     "elapsed": 2,
     "status": "ok",
     "timestamp": 1667418285143,
     "user": {
      "displayName": "DK Baeck",
      "userId": "11093285731816458344"
     },
     "user_tz": -540
    },
    "id": "sC0C4xzp3t3e"
   },
   "outputs": [],
   "source": [
    "# !pip install --upgrade pip                            # pip versio업그레이드\n",
    "# !git clone https://github.com/kakaobrain/pororo.git     #라이브러리 설치"
   ]
  },
  {
   "cell_type": "code",
   "execution_count": 7,
   "metadata": {
    "executionInfo": {
     "elapsed": 503,
     "status": "ok",
     "timestamp": 1667418922864,
     "user": {
      "displayName": "DK Baeck",
      "userId": "11093285731816458344"
     },
     "user_tz": -540
    },
    "id": "BTIEMGK_3-58"
   },
   "outputs": [],
   "source": [
    "# cd pororo         # 디렉토리 이동\n",
    "# !pip install -e .\n",
    "# 런타임 재시작 >> 한번만 해도 되는 작업."
   ]
  },
  {
   "cell_type": "code",
   "execution_count": 8,
   "metadata": {
    "executionInfo": {
     "elapsed": 11803,
     "status": "ok",
     "timestamp": 1667418943395,
     "user": {
      "displayName": "DK Baeck",
      "userId": "11093285731816458344"
     },
     "user_tz": -540
    },
    "id": "l0ecwfPk0hWA"
   },
   "outputs": [],
   "source": [
    "from pororo import Pororo\n",
    "mt = Pororo(task=\"translation\", lang=\"multi\")\n",
    "# model='transformer.large.multi.fast.mtpg' : 기본 모델 외에 약간의 성능을 희생하면서 2배 정도 빠른 속도를 냄 > 오류\n",
    "# model='abstractive' :: !pip install -U transformers==4.7.0 > Pororo(task='summary', lang='ko', model='abstractive')"
   ]
  },
  {
   "cell_type": "code",
   "execution_count": null,
   "metadata": {
    "id": "btZOXhfi0hWA"
   },
   "outputs": [],
   "source": [
    "# def back_trans_pororo(original_text, lang='en'):\n",
    "#     text_to_lang = mt(original_text, src=\"ko\", tgt=lang)\n",
    "#     new_text = mt(text_to_lang, src=lang, tgt=\"ko\")\n",
    "#     return new_text\n",
    "\n",
    "# print('origin ;',add_train.sentence_1[0])\n",
    "# print('translation ;',back_trans_pororo(add_train.sentence_1[0]))"
   ]
  },
  {
   "cell_type": "code",
   "execution_count": 9,
   "metadata": {
    "executionInfo": {
     "elapsed": 6,
     "status": "ok",
     "timestamp": 1667418943395,
     "user": {
      "displayName": "DK Baeck",
      "userId": "11093285731816458344"
     },
     "user_tz": -540
    },
    "id": "oxwfn09s0hWB"
   },
   "outputs": [],
   "source": [
    "def back_trans_pororo(original_text, lang='en'):\n",
    "    #print('origin : ',original_text)\n",
    "    text_to_lang = mt(original_text, src=\"ko\", tgt=lang)\n",
    "    new_text = mt(text_to_lang, src=lang, tgt=\"ko\")\n",
    "    #print('after : ',new_text)\n",
    "    #print()\n",
    "    return new_text"
   ]
  },
  {
   "cell_type": "code",
   "execution_count": 11,
   "metadata": {
    "colab": {
     "base_uri": "https://localhost:8080/"
    },
    "executionInfo": {
     "elapsed": 3307968,
     "status": "ok",
     "timestamp": 1667422320420,
     "user": {
      "displayName": "DK Baeck",
      "userId": "11093285731816458344"
     },
     "user_tz": -540
    },
    "id": "wH9TB3Cc0hWB",
    "outputId": "76901f61-74af-41df-8ca6-7b9484f7c947"
   },
   "outputs": [
    {
     "name": "stderr",
     "output_type": "stream",
     "text": [
      "100%|██████████| 5302/5302 [55:08<00:00,  1.60it/s]\n"
     ]
    }
   ],
   "source": [
    "# progress_apply를 사용하려면 필수적으로 사용.\n",
    "from tqdm import tqdm\n",
    "tqdm.pandas()\n",
    "\n",
    "lang = 'en'\n",
    "pororo_data_sent1 = mt_data.copy()\n",
    "pororo_data_sent1['sentence_1'] = mt_data['sentence_1'].progress_apply(lambda x: back_trans_pororo(x, lang=lang))\n",
    "#pororo_data_sent1.to_csv('pororo_sent1.csv',index=False)"
   ]
  },
  {
   "cell_type": "code",
   "execution_count": 12,
   "metadata": {
    "colab": {
     "base_uri": "https://localhost:8080/"
    },
    "executionInfo": {
     "elapsed": 3194433,
     "status": "ok",
     "timestamp": 1667425514839,
     "user": {
      "displayName": "DK Baeck",
      "userId": "11093285731816458344"
     },
     "user_tz": -540
    },
    "id": "AqZCK2Vm0hWB",
    "outputId": "ccd64d98-54a7-4150-950b-9cd995886695"
   },
   "outputs": [
    {
     "name": "stderr",
     "output_type": "stream",
     "text": [
      "100%|██████████| 5302/5302 [53:14<00:00,  1.66it/s]\n"
     ]
    }
   ],
   "source": [
    "pororo_data_sent2 = mt_data.copy()\n",
    "pororo_data_sent2['sentence_2'] = mt_data['sentence_2'].progress_apply(lambda x: back_trans_pororo(x, lang=lang))\n",
    "#pororo_data_sent2.to_csv('pororo_sent2.csv',index=False)"
   ]
  },
  {
   "cell_type": "markdown",
   "metadata": {
    "id": "eVxsm-Yp0hWC"
   },
   "source": [
    "- pororo_data_sent1 : sentence_1만 역번역한 dataframe\n",
    "- pororo_data_sent2 : sentence_2만 역번역한 dataframe\n",
    "> pororo_train = add_train + pororo_data_sent1 + pororo_data_sent1"
   ]
  },
  {
   "cell_type": "code",
   "execution_count": 32,
   "metadata": {
    "colab": {
     "base_uri": "https://localhost:8080/",
     "height": 606
    },
    "executionInfo": {
     "elapsed": 763,
     "status": "ok",
     "timestamp": 1667426869055,
     "user": {
      "displayName": "DK Baeck",
      "userId": "11093285731816458344"
     },
     "user_tz": -540
    },
    "id": "PuPu3l8-0hWC",
    "outputId": "4be4b3bc-67dc-452f-eb5c-0f3ee036787b"
   },
   "outputs": [
    {
     "data": {
      "text/html": [
       "\n",
       "  <div id=\"df-6b80b823-36a8-4690-9e71-6f15c22676f6\">\n",
       "    <div class=\"colab-df-container\">\n",
       "      <div>\n",
       "<style scoped>\n",
       "    .dataframe tbody tr th:only-of-type {\n",
       "        vertical-align: middle;\n",
       "    }\n",
       "\n",
       "    .dataframe tbody tr th {\n",
       "        vertical-align: top;\n",
       "    }\n",
       "\n",
       "    .dataframe thead th {\n",
       "        text-align: right;\n",
       "    }\n",
       "</style>\n",
       "<table border=\"1\" class=\"dataframe\">\n",
       "  <thead>\n",
       "    <tr style=\"text-align: right;\">\n",
       "      <th></th>\n",
       "      <th>id</th>\n",
       "      <th>source</th>\n",
       "      <th>sentence_1</th>\n",
       "      <th>sentence_2</th>\n",
       "      <th>label</th>\n",
       "      <th>binary-label</th>\n",
       "    </tr>\n",
       "  </thead>\n",
       "  <tbody>\n",
       "    <tr>\n",
       "      <th>0</th>\n",
       "      <td>boostcamp-sts-v1-train-000</td>\n",
       "      <td>nsmc-sampled</td>\n",
       "      <td>스릴도 있고 반전도 있고 여느 한국 영화 쓰레기들하고는 차원이 다르네요</td>\n",
       "      <td>반전도 있고 사랑도 있고 재미도 있네요</td>\n",
       "      <td>2.2</td>\n",
       "      <td>0.0</td>\n",
       "    </tr>\n",
       "    <tr>\n",
       "      <th>1</th>\n",
       "      <td>boostcamp-sts-v1-train-001</td>\n",
       "      <td>slack-rtt</td>\n",
       "      <td>앗 제가 접근 권한이 없다고 뜹니다</td>\n",
       "      <td>오 액세스 권한이 없다고 합니다</td>\n",
       "      <td>4.2</td>\n",
       "      <td>1.0</td>\n",
       "    </tr>\n",
       "    <tr>\n",
       "      <th>2</th>\n",
       "      <td>boostcamp-sts-v1-train-002</td>\n",
       "      <td>petition-sampled</td>\n",
       "      <td>주택청약조건 변경해주세요</td>\n",
       "      <td>주택청약 무주택 기준 변경해주세요</td>\n",
       "      <td>2.4</td>\n",
       "      <td>0.0</td>\n",
       "    </tr>\n",
       "    <tr>\n",
       "      <th>3</th>\n",
       "      <td>boostcamp-sts-v1-train-003</td>\n",
       "      <td>slack-sampled</td>\n",
       "      <td>입사 후 처음 대면으로 만나 반가웠습니다</td>\n",
       "      <td>화상으로만 보다가 리얼로 만나니 정말 반가웠습니다</td>\n",
       "      <td>3.0</td>\n",
       "      <td>1.0</td>\n",
       "    </tr>\n",
       "    <tr>\n",
       "      <th>4</th>\n",
       "      <td>boostcamp-sts-v1-train-004</td>\n",
       "      <td>slack-sampled</td>\n",
       "      <td>뿌듯 뿌듯하네요</td>\n",
       "      <td>꼬옥 실제로 한번 뵈어요 뿌뿌뿌</td>\n",
       "      <td>0.0</td>\n",
       "      <td>0.0</td>\n",
       "    </tr>\n",
       "    <tr>\n",
       "      <th>...</th>\n",
       "      <td>...</td>\n",
       "      <td>...</td>\n",
       "      <td>...</td>\n",
       "      <td>...</td>\n",
       "      <td>...</td>\n",
       "      <td>...</td>\n",
       "    </tr>\n",
       "    <tr>\n",
       "      <th>29245</th>\n",
       "      <td>boostcamp-sts-v1-train-9297</td>\n",
       "      <td>slack-rtt</td>\n",
       "      <td>오늘은 날씨가 너무 좋았어 굿굿</td>\n",
       "      <td>좋은 날이었지만 멋진 밤이었다</td>\n",
       "      <td>4.0</td>\n",
       "      <td>1.0</td>\n",
       "    </tr>\n",
       "    <tr>\n",
       "      <th>29246</th>\n",
       "      <td>boostcamp-sts-v1-train-9298</td>\n",
       "      <td>petition-rtt</td>\n",
       "      <td>북한 연락사무소 리모델링 97억 8000만 원 급하니까 나중에 계산할게</td>\n",
       "      <td>북한 연락사무소를 리모델링하는 데 97억8,000만원이 시급한 문제다.</td>\n",
       "      <td>4.2</td>\n",
       "      <td>1.0</td>\n",
       "    </tr>\n",
       "    <tr>\n",
       "      <th>29247</th>\n",
       "      <td>boostcamp-sts-v1-train-9304</td>\n",
       "      <td>petition-rtt</td>\n",
       "      <td>독도가 표시된 한반도기 사용</td>\n",
       "      <td>독도가 표시된 한반도 깃발의 사용</td>\n",
       "      <td>5.0</td>\n",
       "      <td>1.0</td>\n",
       "    </tr>\n",
       "    <tr>\n",
       "      <th>29248</th>\n",
       "      <td>boostcamp-sts-v1-train-9307</td>\n",
       "      <td>slack-rtt</td>\n",
       "      <td>프로젝트 멘토를 만난 기분으로 인사를 받았습니다</td>\n",
       "      <td>나는 프로젝트 멘토를 만나는 느낌에 인사를 받았다</td>\n",
       "      <td>2.8</td>\n",
       "      <td>1.0</td>\n",
       "    </tr>\n",
       "    <tr>\n",
       "      <th>29249</th>\n",
       "      <td>boostcamp-sts-v1-train-9318</td>\n",
       "      <td>petition-rtt</td>\n",
       "      <td>Warmad 회원에 대한 테러 방지법 적용을 검토하십시오</td>\n",
       "      <td>워마드 회원들에 대한 테러방지법 적용을 검토한다.</td>\n",
       "      <td>4.4</td>\n",
       "      <td>1.0</td>\n",
       "    </tr>\n",
       "  </tbody>\n",
       "</table>\n",
       "<p>29250 rows × 6 columns</p>\n",
       "</div>\n",
       "      <button class=\"colab-df-convert\" onclick=\"convertToInteractive('df-6b80b823-36a8-4690-9e71-6f15c22676f6')\"\n",
       "              title=\"Convert this dataframe to an interactive table.\"\n",
       "              style=\"display:none;\">\n",
       "        \n",
       "  <svg xmlns=\"http://www.w3.org/2000/svg\" height=\"24px\"viewBox=\"0 0 24 24\"\n",
       "       width=\"24px\">\n",
       "    <path d=\"M0 0h24v24H0V0z\" fill=\"none\"/>\n",
       "    <path d=\"M18.56 5.44l.94 2.06.94-2.06 2.06-.94-2.06-.94-.94-2.06-.94 2.06-2.06.94zm-11 1L8.5 8.5l.94-2.06 2.06-.94-2.06-.94L8.5 2.5l-.94 2.06-2.06.94zm10 10l.94 2.06.94-2.06 2.06-.94-2.06-.94-.94-2.06-.94 2.06-2.06.94z\"/><path d=\"M17.41 7.96l-1.37-1.37c-.4-.4-.92-.59-1.43-.59-.52 0-1.04.2-1.43.59L10.3 9.45l-7.72 7.72c-.78.78-.78 2.05 0 2.83L4 21.41c.39.39.9.59 1.41.59.51 0 1.02-.2 1.41-.59l7.78-7.78 2.81-2.81c.8-.78.8-2.07 0-2.86zM5.41 20L4 18.59l7.72-7.72 1.47 1.35L5.41 20z\"/>\n",
       "  </svg>\n",
       "      </button>\n",
       "      \n",
       "  <style>\n",
       "    .colab-df-container {\n",
       "      display:flex;\n",
       "      flex-wrap:wrap;\n",
       "      gap: 12px;\n",
       "    }\n",
       "\n",
       "    .colab-df-convert {\n",
       "      background-color: #E8F0FE;\n",
       "      border: none;\n",
       "      border-radius: 50%;\n",
       "      cursor: pointer;\n",
       "      display: none;\n",
       "      fill: #1967D2;\n",
       "      height: 32px;\n",
       "      padding: 0 0 0 0;\n",
       "      width: 32px;\n",
       "    }\n",
       "\n",
       "    .colab-df-convert:hover {\n",
       "      background-color: #E2EBFA;\n",
       "      box-shadow: 0px 1px 2px rgba(60, 64, 67, 0.3), 0px 1px 3px 1px rgba(60, 64, 67, 0.15);\n",
       "      fill: #174EA6;\n",
       "    }\n",
       "\n",
       "    [theme=dark] .colab-df-convert {\n",
       "      background-color: #3B4455;\n",
       "      fill: #D2E3FC;\n",
       "    }\n",
       "\n",
       "    [theme=dark] .colab-df-convert:hover {\n",
       "      background-color: #434B5C;\n",
       "      box-shadow: 0px 1px 3px 1px rgba(0, 0, 0, 0.15);\n",
       "      filter: drop-shadow(0px 1px 2px rgba(0, 0, 0, 0.3));\n",
       "      fill: #FFFFFF;\n",
       "    }\n",
       "  </style>\n",
       "\n",
       "      <script>\n",
       "        const buttonEl =\n",
       "          document.querySelector('#df-6b80b823-36a8-4690-9e71-6f15c22676f6 button.colab-df-convert');\n",
       "        buttonEl.style.display =\n",
       "          google.colab.kernel.accessAllowed ? 'block' : 'none';\n",
       "\n",
       "        async function convertToInteractive(key) {\n",
       "          const element = document.querySelector('#df-6b80b823-36a8-4690-9e71-6f15c22676f6');\n",
       "          const dataTable =\n",
       "            await google.colab.kernel.invokeFunction('convertToInteractive',\n",
       "                                                     [key], {});\n",
       "          if (!dataTable) return;\n",
       "\n",
       "          const docLinkHtml = 'Like what you see? Visit the ' +\n",
       "            '<a target=\"_blank\" href=https://colab.research.google.com/notebooks/data_table.ipynb>data table notebook</a>'\n",
       "            + ' to learn more about interactive tables.';\n",
       "          element.innerHTML = '';\n",
       "          dataTable['output_type'] = 'display_data';\n",
       "          await google.colab.output.renderOutput(dataTable, element);\n",
       "          const docLink = document.createElement('div');\n",
       "          docLink.innerHTML = docLinkHtml;\n",
       "          element.appendChild(docLink);\n",
       "        }\n",
       "      </script>\n",
       "    </div>\n",
       "  </div>\n",
       "  "
      ],
      "text/plain": [
       "                                id            source  \\\n",
       "0       boostcamp-sts-v1-train-000      nsmc-sampled   \n",
       "1       boostcamp-sts-v1-train-001         slack-rtt   \n",
       "2       boostcamp-sts-v1-train-002  petition-sampled   \n",
       "3       boostcamp-sts-v1-train-003     slack-sampled   \n",
       "4       boostcamp-sts-v1-train-004     slack-sampled   \n",
       "...                            ...               ...   \n",
       "29245  boostcamp-sts-v1-train-9297         slack-rtt   \n",
       "29246  boostcamp-sts-v1-train-9298      petition-rtt   \n",
       "29247  boostcamp-sts-v1-train-9304      petition-rtt   \n",
       "29248  boostcamp-sts-v1-train-9307         slack-rtt   \n",
       "29249  boostcamp-sts-v1-train-9318      petition-rtt   \n",
       "\n",
       "                                     sentence_1  \\\n",
       "0       스릴도 있고 반전도 있고 여느 한국 영화 쓰레기들하고는 차원이 다르네요   \n",
       "1                           앗 제가 접근 권한이 없다고 뜹니다   \n",
       "2                                 주택청약조건 변경해주세요   \n",
       "3                        입사 후 처음 대면으로 만나 반가웠습니다   \n",
       "4                                      뿌듯 뿌듯하네요   \n",
       "...                                         ...   \n",
       "29245                         오늘은 날씨가 너무 좋았어 굿굿   \n",
       "29246  북한 연락사무소 리모델링 97억 8000만 원 급하니까 나중에 계산할게    \n",
       "29247                           독도가 표시된 한반도기 사용   \n",
       "29248                프로젝트 멘토를 만난 기분으로 인사를 받았습니다   \n",
       "29249           Warmad 회원에 대한 테러 방지법 적용을 검토하십시오   \n",
       "\n",
       "                                    sentence_2  label  binary-label  \n",
       "0                        반전도 있고 사랑도 있고 재미도 있네요    2.2           0.0  \n",
       "1                            오 액세스 권한이 없다고 합니다    4.2           1.0  \n",
       "2                           주택청약 무주택 기준 변경해주세요    2.4           0.0  \n",
       "3                  화상으로만 보다가 리얼로 만나니 정말 반가웠습니다    3.0           1.0  \n",
       "4                            꼬옥 실제로 한번 뵈어요 뿌뿌뿌    0.0           0.0  \n",
       "...                                        ...    ...           ...  \n",
       "29245                         좋은 날이었지만 멋진 밤이었다    4.0           1.0  \n",
       "29246  북한 연락사무소를 리모델링하는 데 97억8,000만원이 시급한 문제다.    4.2           1.0  \n",
       "29247                       독도가 표시된 한반도 깃발의 사용    5.0           1.0  \n",
       "29248              나는 프로젝트 멘토를 만나는 느낌에 인사를 받았다    2.8           1.0  \n",
       "29249              워마드 회원들에 대한 테러방지법 적용을 검토한다.    4.4           1.0  \n",
       "\n",
       "[29250 rows x 6 columns]"
      ]
     },
     "execution_count": 32,
     "metadata": {},
     "output_type": "execute_result"
    }
   ],
   "source": [
    "pororo_train = pd.concat([add_train,pororo_data_sent1,pororo_data_sent2])\n",
    "pororo_train.to_csv('pororo_both_train.csv',index=False)\n",
    "pororo_both = pd.read_csv(\"pororo_both_train.csv\")\n",
    "\n",
    "#인덱스 확인 내용 확인\n",
    "pororo_both"
   ]
  },
  {
   "cell_type": "code",
   "execution_count": 29,
   "metadata": {
    "colab": {
     "base_uri": "https://localhost:8080/"
    },
    "executionInfo": {
     "elapsed": 2,
     "status": "ok",
     "timestamp": 1667426417917,
     "user": {
      "displayName": "DK Baeck",
      "userId": "11093285731816458344"
     },
     "user_tz": -540
    },
    "id": "hHJRKPbbWWd7",
    "outputId": "44f6098e-650f-41bd-8a4a-cf087a54a937"
   },
   "outputs": [
    {
     "data": {
      "text/plain": [
       "0        2.2\n",
       "1        4.2\n",
       "2        2.4\n",
       "3        3.0\n",
       "4        0.0\n",
       "        ... \n",
       "29245    4.0\n",
       "29246    4.2\n",
       "29247    5.0\n",
       "29248    2.8\n",
       "29249    4.4\n",
       "Name: label, Length: 29250, dtype: float64"
      ]
     },
     "execution_count": 29,
     "metadata": {},
     "output_type": "execute_result"
    }
   ],
   "source": [
    "pororo_both.label"
   ]
  },
  {
   "cell_type": "code",
   "execution_count": 31,
   "metadata": {
    "colab": {
     "base_uri": "https://localhost:8080/",
     "height": 506
    },
    "executionInfo": {
     "elapsed": 5,
     "status": "ok",
     "timestamp": 1667426466632,
     "user": {
      "displayName": "DK Baeck",
      "userId": "11093285731816458344"
     },
     "user_tz": -540
    },
    "id": "TVejgW6mXEXT",
    "outputId": "c1368cf7-c542-4a05-9eea-b07f000de2af"
   },
   "outputs": [
    {
     "data": {
      "image/png": "[encoded data removed]",
      "text/plain": [
       "<Figure size 720x540 with 1 Axes>"
      ]
     },
     "metadata": {
      "needs_background": "light"
     },
     "output_type": "display_data"
    }
   ],
   "source": [
    "import matplotlib.pyplot as plt\n",
    "feature = pororo_both['label']\n",
    "\n",
    "plt.figure(figsize=(10,7.5))\n",
    "#plt.title('Label Count', fontsize=20)\n",
    "\n",
    "temp = feature.value_counts()  \n",
    "plt.bar(temp.keys(), temp.values, width=0.2, color='b', alpha=0.5)\n",
    "plt.xticks(temp.keys(), fontsize=8) # x축 값, 폰트 크기 설정\n",
    "plt.tight_layout(rect=[0, 0.03, 1, 0.95]) # 레이아웃 설정\n",
    "plt.show() # 그래프 나타내기"
   ]
  },
  {
   "cell_type": "markdown",
   "metadata": {},
   "source": [
    "---"
   ]
  }
 ],
 "metadata": {
  "accelerator": "GPU",
  "colab": {
   "provenance": []
  },
  "gpuClass": "standard",
  "kernelspec": {
   "display_name": "Python 3 (ipykernel)",
   "language": "python",
   "name": "python3"
  },
  "language_info": {
   "codemirror_mode": {
    "name": "ipython",
    "version": 3
   },
   "file_extension": ".py",
   "mimetype": "text/x-python",
   "name": "python",
   "nbconvert_exporter": "python",
   "pygments_lexer": "ipython3",
   "version": "3.8.5"
  },
  "vscode": {
   "interpreter": {
    "hash": "52634da84371cba311ea128a5ea7cdc41ff074b781779e754b270ff9f8153cee"
   }
  }
 },
 "nbformat": 4,
 "nbformat_minor": 4
}
