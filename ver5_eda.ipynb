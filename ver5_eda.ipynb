{
 "cells": [
  {
   "cell_type": "markdown",
   "metadata": {},
   "source": [
    "# EDA"
   ]
  },
  {
   "cell_type": "code",
   "execution_count": 1,
   "metadata": {},
   "outputs": [],
   "source": [
    "import os\n",
    "\n",
    "import pandas as pd\n",
    "import numpy as np\n",
    "import matplotlib.pyplot as plt\n",
    "import seaborn as sns\n",
    "import os"
   ]
  },
  {
   "cell_type": "code",
   "execution_count": 2,
   "metadata": {},
   "outputs": [],
   "source": [
    "# 경로 설정\n",
    "#os.chdir('./data')\n",
    "#os.getcwd()"
   ]
  },
  {
   "cell_type": "markdown",
   "metadata": {},
   "source": [
    "## **1:데이터 확인**\n",
    "- train.csv 총 데이터 9324개\n",
    "- dev_pd : 550개\n",
    "- test_pd : 1100개\n",
    "- null값 없음"
   ]
  },
  {
   "cell_type": "code",
   "execution_count": 3,
   "metadata": {},
   "outputs": [
    {
     "name": "stdout",
     "output_type": "stream",
     "text": [
      "<class 'pandas.core.frame.DataFrame'>\n",
      "RangeIndex: 9324 entries, 0 to 9323\n",
      "Data columns (total 6 columns):\n",
      " #   Column        Non-Null Count  Dtype  \n",
      "---  ------        --------------  -----  \n",
      " 0   id            9324 non-null   object \n",
      " 1   source        9324 non-null   object \n",
      " 2   sentence_1    9324 non-null   object \n",
      " 3   sentence_2    9324 non-null   object \n",
      " 4   label         9324 non-null   float64\n",
      " 5   binary-label  9324 non-null   float64\n",
      "dtypes: float64(2), object(4)\n",
      "memory usage: 437.2+ KB\n",
      "None\n",
      "\n",
      "<class 'pandas.core.frame.DataFrame'>\n",
      "RangeIndex: 550 entries, 0 to 549\n",
      "Data columns (total 6 columns):\n",
      " #   Column        Non-Null Count  Dtype  \n",
      "---  ------        --------------  -----  \n",
      " 0   id            550 non-null    object \n",
      " 1   source        550 non-null    object \n",
      " 2   sentence_1    550 non-null    object \n",
      " 3   sentence_2    550 non-null    object \n",
      " 4   label         550 non-null    float64\n",
      " 5   binary-label  550 non-null    float64\n",
      "dtypes: float64(2), object(4)\n",
      "memory usage: 25.9+ KB\n",
      "None\n",
      "\n",
      "<class 'pandas.core.frame.DataFrame'>\n",
      "RangeIndex: 1100 entries, 0 to 1099\n",
      "Data columns (total 4 columns):\n",
      " #   Column      Non-Null Count  Dtype \n",
      "---  ------      --------------  ----- \n",
      " 0   id          1100 non-null   object\n",
      " 1   source      1100 non-null   object\n",
      " 2   sentence_1  1100 non-null   object\n",
      " 3   sentence_2  1100 non-null   object\n",
      "dtypes: object(4)\n",
      "memory usage: 34.5+ KB\n",
      "None\n",
      "\n"
     ]
    }
   ],
   "source": [
    "train_pd = pd.read_csv(\"train.csv\")\n",
    "dev_pd = pd.read_csv(\"dev.csv\")\n",
    "test_pd = pd.read_csv(\"test.csv\")\n",
    "\n",
    "print(train_pd.info(),end='\\n\\n')\n",
    "print(dev_pd.info(),end='\\n\\n')\n",
    "print(test_pd.info(),end='\\n\\n')"
   ]
  },
  {
   "cell_type": "code",
   "execution_count": 4,
   "metadata": {},
   "outputs": [
    {
     "data": {
      "text/html": [
       "<div>\n",
       "<style scoped>\n",
       "    .dataframe tbody tr th:only-of-type {\n",
       "        vertical-align: middle;\n",
       "    }\n",
       "\n",
       "    .dataframe tbody tr th {\n",
       "        vertical-align: top;\n",
       "    }\n",
       "\n",
       "    .dataframe thead th {\n",
       "        text-align: right;\n",
       "    }\n",
       "</style>\n",
       "<table border=\"1\" class=\"dataframe\">\n",
       "  <thead>\n",
       "    <tr style=\"text-align: right;\">\n",
       "      <th></th>\n",
       "      <th>id</th>\n",
       "      <th>source</th>\n",
       "      <th>sentence_1</th>\n",
       "      <th>sentence_2</th>\n",
       "      <th>label</th>\n",
       "      <th>binary-label</th>\n",
       "    </tr>\n",
       "  </thead>\n",
       "  <tbody>\n",
       "    <tr>\n",
       "      <th>0</th>\n",
       "      <td>boostcamp-sts-v1-train-000</td>\n",
       "      <td>nsmc-sampled</td>\n",
       "      <td>스릴도있고 반전도 있고 여느 한국영화 쓰레기들하고는 차원이 다르네요~</td>\n",
       "      <td>반전도 있고,사랑도 있고재미도있네요.</td>\n",
       "      <td>2.2</td>\n",
       "      <td>0.0</td>\n",
       "    </tr>\n",
       "    <tr>\n",
       "      <th>1</th>\n",
       "      <td>boostcamp-sts-v1-train-001</td>\n",
       "      <td>slack-rtt</td>\n",
       "      <td>앗 제가 접근권한이 없다고 뜹니다;;</td>\n",
       "      <td>오, 액세스 권한이 없다고 합니다.</td>\n",
       "      <td>4.2</td>\n",
       "      <td>1.0</td>\n",
       "    </tr>\n",
       "    <tr>\n",
       "      <th>2</th>\n",
       "      <td>boostcamp-sts-v1-train-002</td>\n",
       "      <td>petition-sampled</td>\n",
       "      <td>주택청약조건 변경해주세요.</td>\n",
       "      <td>주택청약 무주택기준 변경해주세요.</td>\n",
       "      <td>2.4</td>\n",
       "      <td>0.0</td>\n",
       "    </tr>\n",
       "    <tr>\n",
       "      <th>3</th>\n",
       "      <td>boostcamp-sts-v1-train-003</td>\n",
       "      <td>slack-sampled</td>\n",
       "      <td>입사후 처음 대면으로 만나 반가웠습니다.</td>\n",
       "      <td>화상으로만 보다가 리얼로 만나니 정말 반가웠습니다.</td>\n",
       "      <td>3.0</td>\n",
       "      <td>1.0</td>\n",
       "    </tr>\n",
       "    <tr>\n",
       "      <th>4</th>\n",
       "      <td>boostcamp-sts-v1-train-004</td>\n",
       "      <td>slack-sampled</td>\n",
       "      <td>뿌듯뿌듯 하네요!!</td>\n",
       "      <td>꼬옥 실제로 한번 뵈어요 뿌뿌뿌~!~!</td>\n",
       "      <td>0.0</td>\n",
       "      <td>0.0</td>\n",
       "    </tr>\n",
       "    <tr>\n",
       "      <th>...</th>\n",
       "      <td>...</td>\n",
       "      <td>...</td>\n",
       "      <td>...</td>\n",
       "      <td>...</td>\n",
       "      <td>...</td>\n",
       "      <td>...</td>\n",
       "    </tr>\n",
       "    <tr>\n",
       "      <th>9319</th>\n",
       "      <td>boostcamp-sts-v1-train-9319</td>\n",
       "      <td>petition-sampled</td>\n",
       "      <td>교원능력개발평가에서 교원이 보호받을 수 있는 장치를 마련해야합니다</td>\n",
       "      <td>본인이 납부한 국민연금 금액을 기준으로 대출을 받을 수 있는 제도를 마련해 주세요</td>\n",
       "      <td>0.2</td>\n",
       "      <td>0.0</td>\n",
       "    </tr>\n",
       "    <tr>\n",
       "      <th>9320</th>\n",
       "      <td>boostcamp-sts-v1-train-9320</td>\n",
       "      <td>petition-sampled</td>\n",
       "      <td>여성가족부의 폐지를 원합니드</td>\n",
       "      <td>여성가족부 폐지를 청원 합니다.</td>\n",
       "      <td>4.2</td>\n",
       "      <td>1.0</td>\n",
       "    </tr>\n",
       "    <tr>\n",
       "      <th>9321</th>\n",
       "      <td>boostcamp-sts-v1-train-9321</td>\n",
       "      <td>petition-sampled</td>\n",
       "      <td>국회의원들 월급좀 줄여주세요</td>\n",
       "      <td>공무원 봉급좀 줄이지좀 마세요</td>\n",
       "      <td>0.6</td>\n",
       "      <td>0.0</td>\n",
       "    </tr>\n",
       "    <tr>\n",
       "      <th>9322</th>\n",
       "      <td>boostcamp-sts-v1-train-9322</td>\n",
       "      <td>slack-sampled</td>\n",
       "      <td>오늘 못한 점심은 다음에 다시 츄라이 하기로 해요!!</td>\n",
       "      <td>오늘 못먹은 밥은 꼭 담에 먹기로 하고요!!</td>\n",
       "      <td>3.2</td>\n",
       "      <td>1.0</td>\n",
       "    </tr>\n",
       "    <tr>\n",
       "      <th>9323</th>\n",
       "      <td>boostcamp-sts-v1-train-9323</td>\n",
       "      <td>petition-sampled</td>\n",
       "      <td>법정공휴일 휴무관련 (근로자)</td>\n",
       "      <td>법정공휴일의 유급휴무화를 막아야 합니다.</td>\n",
       "      <td>1.4</td>\n",
       "      <td>0.0</td>\n",
       "    </tr>\n",
       "  </tbody>\n",
       "</table>\n",
       "<p>9324 rows × 6 columns</p>\n",
       "</div>"
      ],
      "text/plain": [
       "                               id            source  \\\n",
       "0      boostcamp-sts-v1-train-000      nsmc-sampled   \n",
       "1      boostcamp-sts-v1-train-001         slack-rtt   \n",
       "2      boostcamp-sts-v1-train-002  petition-sampled   \n",
       "3      boostcamp-sts-v1-train-003     slack-sampled   \n",
       "4      boostcamp-sts-v1-train-004     slack-sampled   \n",
       "...                           ...               ...   \n",
       "9319  boostcamp-sts-v1-train-9319  petition-sampled   \n",
       "9320  boostcamp-sts-v1-train-9320  petition-sampled   \n",
       "9321  boostcamp-sts-v1-train-9321  petition-sampled   \n",
       "9322  boostcamp-sts-v1-train-9322     slack-sampled   \n",
       "9323  boostcamp-sts-v1-train-9323  petition-sampled   \n",
       "\n",
       "                                  sentence_1  \\\n",
       "0     스릴도있고 반전도 있고 여느 한국영화 쓰레기들하고는 차원이 다르네요~   \n",
       "1                       앗 제가 접근권한이 없다고 뜹니다;;   \n",
       "2                             주택청약조건 변경해주세요.   \n",
       "3                     입사후 처음 대면으로 만나 반가웠습니다.   \n",
       "4                                 뿌듯뿌듯 하네요!!   \n",
       "...                                      ...   \n",
       "9319    교원능력개발평가에서 교원이 보호받을 수 있는 장치를 마련해야합니다   \n",
       "9320                         여성가족부의 폐지를 원합니드   \n",
       "9321                         국회의원들 월급좀 줄여주세요   \n",
       "9322           오늘 못한 점심은 다음에 다시 츄라이 하기로 해요!!   \n",
       "9323                        법정공휴일 휴무관련 (근로자)   \n",
       "\n",
       "                                         sentence_2  label  binary-label  \n",
       "0                              반전도 있고,사랑도 있고재미도있네요.    2.2           0.0  \n",
       "1                               오, 액세스 권한이 없다고 합니다.    4.2           1.0  \n",
       "2                                주택청약 무주택기준 변경해주세요.    2.4           0.0  \n",
       "3                      화상으로만 보다가 리얼로 만나니 정말 반가웠습니다.    3.0           1.0  \n",
       "4                             꼬옥 실제로 한번 뵈어요 뿌뿌뿌~!~!    0.0           0.0  \n",
       "...                                             ...    ...           ...  \n",
       "9319  본인이 납부한 국민연금 금액을 기준으로 대출을 받을 수 있는 제도를 마련해 주세요    0.2           0.0  \n",
       "9320                              여성가족부 폐지를 청원 합니다.    4.2           1.0  \n",
       "9321                               공무원 봉급좀 줄이지좀 마세요    0.6           0.0  \n",
       "9322                       오늘 못먹은 밥은 꼭 담에 먹기로 하고요!!    3.2           1.0  \n",
       "9323                         법정공휴일의 유급휴무화를 막아야 합니다.    1.4           0.0  \n",
       "\n",
       "[9324 rows x 6 columns]"
      ]
     },
     "execution_count": 4,
     "metadata": {},
     "output_type": "execute_result"
    }
   ],
   "source": [
    "train_pd"
   ]
  },
  {
   "cell_type": "markdown",
   "metadata": {},
   "source": [
    "#### **1-1 :중복데이터 확인** :   \n",
    "'sentence_2'에서 총 3개가 중복되지만 'sentence_1'과 합쳐서 확인해 본 결과, 내용과 겹치지 않으므로 유의미한 데이터로 판단"
   ]
  },
  {
   "cell_type": "code",
   "execution_count": 5,
   "metadata": {},
   "outputs": [
    {
     "data": {
      "text/html": [
       "<div>\n",
       "<style scoped>\n",
       "    .dataframe tbody tr th:only-of-type {\n",
       "        vertical-align: middle;\n",
       "    }\n",
       "\n",
       "    .dataframe tbody tr th {\n",
       "        vertical-align: top;\n",
       "    }\n",
       "\n",
       "    .dataframe thead th {\n",
       "        text-align: right;\n",
       "    }\n",
       "</style>\n",
       "<table border=\"1\" class=\"dataframe\">\n",
       "  <thead>\n",
       "    <tr style=\"text-align: right;\">\n",
       "      <th></th>\n",
       "      <th>id</th>\n",
       "      <th>source</th>\n",
       "      <th>sentence_1</th>\n",
       "      <th>sentence_2</th>\n",
       "      <th>label</th>\n",
       "      <th>binary-label</th>\n",
       "    </tr>\n",
       "  </thead>\n",
       "  <tbody>\n",
       "    <tr>\n",
       "      <th>173</th>\n",
       "      <td>boostcamp-sts-v1-train-173</td>\n",
       "      <td>slack-rtt</td>\n",
       "      <td>다음에 다시 재밌는 이야기해요!</td>\n",
       "      <td>다음에 또 즐겁게 이야기합시다!</td>\n",
       "      <td>3.6</td>\n",
       "      <td>1.0</td>\n",
       "    </tr>\n",
       "    <tr>\n",
       "      <th>601</th>\n",
       "      <td>boostcamp-sts-v1-train-601</td>\n",
       "      <td>slack-rtt</td>\n",
       "      <td>다음에 또 뵈어요!</td>\n",
       "      <td>다음에 만나요!</td>\n",
       "      <td>4.0</td>\n",
       "      <td>1.0</td>\n",
       "    </tr>\n",
       "    <tr>\n",
       "      <th>4523</th>\n",
       "      <td>boostcamp-sts-v1-train-4523</td>\n",
       "      <td>petition-rtt</td>\n",
       "      <td>청소년보호법 폐지요</td>\n",
       "      <td>청소년보호법 폐지해주세요</td>\n",
       "      <td>4.0</td>\n",
       "      <td>1.0</td>\n",
       "    </tr>\n",
       "    <tr>\n",
       "      <th>4706</th>\n",
       "      <td>boostcamp-sts-v1-train-4706</td>\n",
       "      <td>petition-rtt</td>\n",
       "      <td>청소년 보호법 폐지 부탁드립니다</td>\n",
       "      <td>청소년보호법 폐지해주세요</td>\n",
       "      <td>4.2</td>\n",
       "      <td>1.0</td>\n",
       "    </tr>\n",
       "    <tr>\n",
       "      <th>6540</th>\n",
       "      <td>boostcamp-sts-v1-train-6540</td>\n",
       "      <td>slack-rtt</td>\n",
       "      <td>다음에 또 즐겁게 이야기 나누어요!</td>\n",
       "      <td>다음에 또 즐겁게 이야기합시다!</td>\n",
       "      <td>4.4</td>\n",
       "      <td>1.0</td>\n",
       "    </tr>\n",
       "    <tr>\n",
       "      <th>8520</th>\n",
       "      <td>boostcamp-sts-v1-train-8520</td>\n",
       "      <td>slack-rtt</td>\n",
       "      <td>다음에 꼭 뵈어요!</td>\n",
       "      <td>다음에 만나요!</td>\n",
       "      <td>3.4</td>\n",
       "      <td>1.0</td>\n",
       "    </tr>\n",
       "  </tbody>\n",
       "</table>\n",
       "</div>"
      ],
      "text/plain": [
       "                               id        source           sentence_1  \\\n",
       "173    boostcamp-sts-v1-train-173     slack-rtt    다음에 다시 재밌는 이야기해요!   \n",
       "601    boostcamp-sts-v1-train-601     slack-rtt           다음에 또 뵈어요!   \n",
       "4523  boostcamp-sts-v1-train-4523  petition-rtt           청소년보호법 폐지요   \n",
       "4706  boostcamp-sts-v1-train-4706  petition-rtt    청소년 보호법 폐지 부탁드립니다   \n",
       "6540  boostcamp-sts-v1-train-6540     slack-rtt  다음에 또 즐겁게 이야기 나누어요!   \n",
       "8520  boostcamp-sts-v1-train-8520     slack-rtt           다음에 꼭 뵈어요!   \n",
       "\n",
       "             sentence_2  label  binary-label  \n",
       "173   다음에 또 즐겁게 이야기합시다!    3.6           1.0  \n",
       "601            다음에 만나요!    4.0           1.0  \n",
       "4523      청소년보호법 폐지해주세요    4.0           1.0  \n",
       "4706      청소년보호법 폐지해주세요    4.2           1.0  \n",
       "6540  다음에 또 즐겁게 이야기합시다!    4.4           1.0  \n",
       "8520           다음에 만나요!    3.4           1.0  "
      ]
     },
     "execution_count": 5,
     "metadata": {},
     "output_type": "execute_result"
    }
   ],
   "source": [
    "train_pd[train_pd.duplicated('sentence_2',keep=False)]"
   ]
  },
  {
   "cell_type": "code",
   "execution_count": 6,
   "metadata": {},
   "outputs": [
    {
     "data": {
      "text/plain": [
       "0"
      ]
     },
     "execution_count": 6,
     "metadata": {},
     "output_type": "execute_result"
    }
   ],
   "source": [
    "train_pd.duplicated(['sentence_1', 'sentence_2']).sum()"
   ]
  },
  {
   "cell_type": "markdown",
   "metadata": {},
   "source": [
    "### **2 : LABEL 분포**"
   ]
  },
  {
   "cell_type": "markdown",
   "metadata": {},
   "source": [
    "- bar chart : label을 범주형 변수로.\n",
    "- train : label 0인 데이터가 2,119개(22.7%)"
   ]
  },
  {
   "cell_type": "markdown",
   "metadata": {},
   "source": [
    "- Train,Dev,Tes데이터는 균일하고 랜던한 분포를 가져야함 :   \n",
    " dev데이터는 분포가 고른편, 하지만 train데이터는 0점에 쏠린 데이터   "
   ]
  },
  {
   "cell_type": "markdown",
   "metadata": {},
   "source": [
    "- label 0인 데이터를 줄이거나, 특정 라벨을 늘리거나, 모든 label의 데이터 수를 고르게 뽑아서 데이터 분포가 고른 데이터셋 구축하는 것을 제시."
   ]
  },
  {
   "cell_type": "code",
   "execution_count": 7,
   "metadata": {},
   "outputs": [
    {
     "data": {
      "image/png": "[encoded data removed]",
      "text/plain": [
       "<Figure size 720x540 with 1 Axes>"
      ]
     },
     "metadata": {
      "needs_background": "light"
     },
     "output_type": "display_data"
    }
   ],
   "source": [
    "feature = train_pd['label']\n",
    "\n",
    "plt.figure(figsize=(10,7.5))\n",
    "#plt.title('Label Count', fontsize=20)\n",
    "\n",
    "temp = feature.value_counts()\n",
    "plt.bar(temp.keys(), temp.values, width=0.2, color='b', alpha=0.5)\n",
    "plt.xticks(temp.keys(), fontsize=8) # x축 값, 폰트 크기 설정\n",
    "plt.tight_layout(rect=[0, 0.03, 1, 0.95]) # 레이아웃 설정\n",
    "plt.show() # 그래프 나타내기\n",
    "# label == 0 :: 2119"
   ]
  },
  {
   "cell_type": "code",
   "execution_count": 8,
   "metadata": {},
   "outputs": [],
   "source": [
    "# explode = [0.1,0,0,0,0,0,0,0,0,0,0,0,0,0,0,0,0,0,0,0,0,0,0,0,0,0,0,0,0,0,0] ## 튀어나오는 정도를 결정한다.\n",
    "# plt.pie(train_pd['label'].value_counts(), ## 파이차트 출력\n",
    "#         labels=train_pd['label'].value_counts().index, ## 라벨 출력\n",
    "#         startangle=90,  ## 시작점을 90도(degree)로 지정\n",
    "#         autopct = '%.1f%%',  #퍼센티지 출력\n",
    "#         explode = explode,## 튀어나오게한다.\n",
    "#         )\n"
   ]
  },
  {
   "cell_type": "code",
   "execution_count": 9,
   "metadata": {},
   "outputs": [
    {
     "data": {
      "image/png": "[encoded data removed]",
      "text/plain": [
       "<Figure size 720x540 with 1 Axes>"
      ]
     },
     "metadata": {
      "needs_background": "light"
     },
     "output_type": "display_data"
    }
   ],
   "source": [
    "feature = dev_pd['label']\n",
    "\n",
    "plt.figure(figsize=(10,7.5))\n",
    "#plt.title('Label Count', fontsize=20)\n",
    "\n",
    "temp = feature.value_counts()  \n",
    "plt.bar(temp.keys(), temp.values, width=0.2, color='b', alpha=0.5)\n",
    "plt.xticks(temp.keys(), fontsize=8) # x축 값, 폰트 크기 설정\n",
    "plt.tight_layout(rect=[0, 0.03, 1, 0.95]) # 레이아웃 설정\n",
    "plt.show() # 그래프 나타내기"
   ]
  },
  {
   "cell_type": "markdown",
   "metadata": {},
   "source": [
    "### **3 : Source 분포**"
   ]
  },
  {
   "cell_type": "markdown",
   "metadata": {},
   "source": [
    " - dev데이터 source의 비율은 train과 같음"
   ]
  },
  {
   "cell_type": "markdown",
   "metadata": {},
   "source": [
    " - Source별 문장의 차이는 없는 것으로 보임.\n",
    " \n",
    "> NSMC (네이버 영화 감성 분석 코퍼스, Naver Sentiment Movie Corpus) : 구어체   \n",
    "> slack (업스테이지(Upstage) 슬랙 데이터) : <\\/PERSON> 이라는 단어가 자주 등장하는데, 개인정보로 추측됨   \n",
    "> petition (국민청원 게시판 제목 데이터) : 주장하거나 요청하는 문체를 사용함"
   ]
  },
  {
   "cell_type": "markdown",
   "metadata": {},
   "source": [
    "- rtt 데이터는 Round Trip translation(한국어 -> 영어 -> 한국어)으로 추론됨(by_최동민_T4218)   \n",
    " > 확인 결과, rtt는 'sentence_1'을 **google번역기**로 (한국어 -> 영어 -> 한국어) 실행하여 'sentence_2'로 저장하고 라벨링 한 것으로 보임.   \n",
    " > 그래서 rtt데이터들은 label이 5점으로 치우친 데이터 분포를 보이는 것으로 추측됨"
   ]
  },
  {
   "cell_type": "markdown",
   "metadata": {},
   "source": [
    " - 유의미한 인사이트를 도출하지 못함"
   ]
  },
  {
   "cell_type": "code",
   "execution_count": 10,
   "metadata": {},
   "outputs": [
    {
     "data": {
      "text/plain": [
       "([<matplotlib.patches.Wedge at 0x2a81a8c2c50>,\n",
       "  <matplotlib.patches.Wedge at 0x2a81a8c33a0>,\n",
       "  <matplotlib.patches.Wedge at 0x2a81a8c3ac0>,\n",
       "  <matplotlib.patches.Wedge at 0x2a81a8f0220>,\n",
       "  <matplotlib.patches.Wedge at 0x2a81a8f0940>,\n",
       "  <matplotlib.patches.Wedge at 0x2a81a8f1060>],\n",
       " [Text(-0.7833015107170367, 0.7722944667083976, 'nsmc-sampled'),\n",
       "  Text(-0.775980774956586, -0.7796498168394426, 'slack-rtt'),\n",
       "  Text(0.6852590866774975, -0.8604766028927935, 'petition-sampled'),\n",
       "  Text(1.0897742814501923, 0.14963961871682735, 'slack-sampled'),\n",
       "  Text(0.793895228753955, 0.7614002664576008, 'nsmc-rtt'),\n",
       "  Text(0.2886370396316437, 1.0614559149360285, 'petition-rtt')],\n",
       " [Text(-0.534069211852525, 0.526564409119362, '25.2%'),\n",
       "  Text(-0.5290778011067632, -0.5315794205723472, '24.6%'),\n",
       "  Text(0.46722210455283913, -0.58668859288145, '21.7%'),\n",
       "  Text(0.7430279191705855, 0.10202701276147319, '11.2%'),\n",
       "  Text(0.5412922014231512, 0.5191365453120005, '8.8%'),\n",
       "  Text(0.1967979815670298, 0.7237199420018375, '8.5%')])"
      ]
     },
     "execution_count": 10,
     "metadata": {},
     "output_type": "execute_result"
    },
    {
     "data": {
      "image/png": "[encoded data removed]",
      "text/plain": [
       "<Figure size 432x288 with 1 Axes>"
      ]
     },
     "metadata": {},
     "output_type": "display_data"
    }
   ],
   "source": [
    "my_colours =['#ffe1e1','#aed7ff','#e5ebb2','#e1f0ff','#ffaeae','#d0db76']\n",
    "plt.pie(train_pd['source'].value_counts(),labels=train_pd['source'].unique(),startangle=90,autopct='%.1f%%',pctdistance=0.75,colors = my_colours)"
   ]
  },
  {
   "cell_type": "code",
   "execution_count": 11,
   "metadata": {},
   "outputs": [
    {
     "data": {
      "image/png": "[encoded data removed]",
      "text/plain": [
       "<Figure size 576x432 with 6 Axes>"
      ]
     },
     "metadata": {
      "needs_background": "light"
     },
     "output_type": "display_data"
    }
   ],
   "source": [
    "f, axes = plt.subplots(3, 2, figsize=(8, 6), sharex=True)\n",
    "\n",
    "a = sns.histplot(train_pd[train_pd['source']=='nsmc-rtt']['label'], color=\"blue\", ax=axes[0, 0])\n",
    "b = sns.histplot(train_pd[train_pd['source']=='nsmc-sampled']['label'], color=\"red\", ax=axes[0, 1])\n",
    "a.set_title('nsmc-rtt')\n",
    "b.set_title('nsmc-sampled')\n",
    "\n",
    "c = sns.histplot(train_pd[train_pd['source']=='petition-rtt']['label'], color=\"yellow\", ax=axes[1, 0])\n",
    "d = sns.histplot(train_pd[train_pd['source']=='petition-sampled']['label'], color=\"green\", ax=axes[1, 1])\n",
    "c.set_title('petition-rtt')\n",
    "d.set_title('petition-sampled')\n",
    "\n",
    "e = sns.histplot(train_pd[train_pd['source']=='slack-rtt']['label'], color=\"yellow\", ax=axes[2, 0])\n",
    "f = sns.histplot(train_pd[train_pd['source']=='slack-sampled']['label'], color=\"green\", ax=axes[2, 1])\n",
    "e.set_title('slackn-rtt')\n",
    "f.set_title('slack-sampled')\n",
    "\n",
    "plt.show()"
   ]
  },
  {
   "cell_type": "code",
   "execution_count": 12,
   "metadata": {},
   "outputs": [
    {
     "data": {
      "text/plain": [
       "([<matplotlib.patches.Wedge at 0x2a81aa731f0>,\n",
       "  <matplotlib.patches.Wedge at 0x2a81aa738e0>,\n",
       "  <matplotlib.patches.Wedge at 0x2a81aa73e20>,\n",
       "  <matplotlib.patches.Wedge at 0x2a81a5c3970>,\n",
       "  <matplotlib.patches.Wedge at 0x2a81a5c3a30>,\n",
       "  <matplotlib.patches.Wedge at 0x2a81a5c3460>],\n",
       " [Text(-0.7297966338600793, 0.8230412342079207, 'nsmc-sampled'),\n",
       "  Text(-0.9044577722670107, -0.6260640048635573, 'slack-rtt'),\n",
       "  Text(0.35184764855444955, -1.0422107427035594, 'petition-sampled'),\n",
       "  Text(1.0780908383980825, -0.21844940870169383, 'slack-sampled'),\n",
       "  Text(0.8749149832544059, 0.6667261597364715, 'nsmc-rtt'),\n",
       "  Text(0.297828404853764, 1.0589137081284115, 'petition-rtt')],\n",
       " [Text(-0.4975886139955086, 0.5611644778690369, '23.1%'),\n",
       "  Text(-0.6166757538184164, -0.42686182149788, '23.1%'),\n",
       "  Text(0.23989612401439742, -0.7105982336615178, '18.0%'),\n",
       "  Text(0.7350619352714198, -0.1489427786602458, '15.3%'),\n",
       "  Text(0.596532943128004, 0.4545860180021396, '11.8%'),\n",
       "  Text(0.20306482149120272, 0.7219866191784623, '8.7%')])"
      ]
     },
     "execution_count": 12,
     "metadata": {},
     "output_type": "execute_result"
    },
    {
     "data": {
      "image/png": "[encoded data removed]",
      "text/plain": [
       "<Figure size 432x288 with 1 Axes>"
      ]
     },
     "metadata": {},
     "output_type": "display_data"
    }
   ],
   "source": [
    "my_colours =['#ffe1e1','#aed7ff','#e5ebb2','#e1f0ff','#ffaeae','#d0db76']\n",
    "plt.pie(dev_pd['source'].value_counts(),labels=train_pd['source'].unique(),startangle=90,autopct='%.1f%%',pctdistance=0.75,colors = my_colours)\n",
    "\n",
    "# dev데이터 source의 비율은 train과 같음"
   ]
  },
  {
   "cell_type": "code",
   "execution_count": 13,
   "metadata": {},
   "outputs": [],
   "source": [
    "# train_pd[train_pd['source']=='nsmc-sampled']"
   ]
  },
  {
   "cell_type": "code",
   "execution_count": 14,
   "metadata": {},
   "outputs": [],
   "source": [
    "# train_pd[train_pd['source']=='slack-sampled']"
   ]
  },
  {
   "cell_type": "code",
   "execution_count": 15,
   "metadata": {},
   "outputs": [],
   "source": [
    "# train_pd[train_pd['source']=='petition-sampled']"
   ]
  },
  {
   "cell_type": "code",
   "execution_count": 16,
   "metadata": {},
   "outputs": [],
   "source": [
    "# train_pd[train_pd['source']=='nsmc-rtt']"
   ]
  },
  {
   "cell_type": "code",
   "execution_count": 17,
   "metadata": {},
   "outputs": [],
   "source": [
    "# train_pd[train_pd['source']=='slack-rtt']"
   ]
  },
  {
   "cell_type": "code",
   "execution_count": 18,
   "metadata": {},
   "outputs": [],
   "source": [
    "# train_pd[train_pd['source']=='petition-rtt']"
   ]
  },
  {
   "cell_type": "markdown",
   "metadata": {},
   "source": [
    "### **4 : binary-label 분포**"
   ]
  },
  {
   "cell_type": "markdown",
   "metadata": {},
   "source": [
    "- rtt데이터가 binary-label 1의 비중이 높고, sampled데이터는 binary-label 0의 비중이 높다.\n",
    "- 1-2 : Source 분포와 마찬가지로 유의미한 인사이트를 도출하지 못함"
   ]
  },
  {
   "cell_type": "code",
   "execution_count": 19,
   "metadata": {},
   "outputs": [
    {
     "data": {
      "text/plain": [
       "([<matplotlib.patches.Wedge at 0x2a81834b040>,\n",
       "  <matplotlib.patches.Wedge at 0x2a81834b820>],\n",
       " [Text(-1.0344203444877802, -0.3741317293544912, '0.0'),\n",
       "  Text(1.0344203444877802, 0.37413172935449107, '1.0')],\n",
       " [Text(-0.7052865985143956, -0.25508981546897125, '61.0%'),\n",
       "  Text(0.7052865985143956, 0.25508981546897114, '39.0%')])"
      ]
     },
     "execution_count": 19,
     "metadata": {},
     "output_type": "execute_result"
    },
    {
     "data": {
      "image/png": "[encoded data removed]",
      "text/plain": [
       "<Figure size 432x288 with 1 Axes>"
      ]
     },
     "metadata": {},
     "output_type": "display_data"
    }
   ],
   "source": [
    "my_colours =['#c47aff','#7978ff']\n",
    "plt.pie(train_pd['binary-label'].value_counts(),labels=train_pd['binary-label'].unique(),startangle=90,autopct='%.1f%%',pctdistance=0.75,colors = my_colours)"
   ]
  },
  {
   "cell_type": "markdown",
   "metadata": {},
   "source": [
    "- ['binary-label']==0인 데이터 source 분포"
   ]
  },
  {
   "cell_type": "code",
   "execution_count": 20,
   "metadata": {},
   "outputs": [
    {
     "data": {
      "text/plain": [
       "Index(['petition-rtt', 'nsmc-rtt', 'slack-rtt', 'petition-sampled',\n",
       "       'slack-sampled', 'nsmc-sampled'],\n",
       "      dtype='object')"
      ]
     },
     "execution_count": 20,
     "metadata": {},
     "output_type": "execute_result"
    }
   ],
   "source": [
    "train_pd[train_pd['binary-label']==0]['source'].value_counts().sort_values().keys()"
   ]
  },
  {
   "cell_type": "code",
   "execution_count": 21,
   "metadata": {},
   "outputs": [
    {
     "data": {
      "text/plain": [
       "petition-rtt         110\n",
       "nsmc-rtt             141\n",
       "slack-rtt            169\n",
       "petition-sampled    1719\n",
       "slack-sampled       1762\n",
       "nsmc-sampled        1791\n",
       "Name: source, dtype: int64"
      ]
     },
     "execution_count": 21,
     "metadata": {},
     "output_type": "execute_result"
    }
   ],
   "source": [
    "train_pd[train_pd['binary-label']==0]['source'].value_counts().sort_values()"
   ]
  },
  {
   "cell_type": "code",
   "execution_count": 22,
   "metadata": {},
   "outputs": [
    {
     "data": {
      "image/png": "[encoded data removed]",
      "text/plain": [
       "<Figure size 432x288 with 1 Axes>"
      ]
     },
     "metadata": {
      "needs_background": "light"
     },
     "output_type": "display_data"
    }
   ],
   "source": [
    "topics = train_pd['source'].unique()\n",
    "value_a = train_pd[train_pd['binary-label']==0]['source'].value_counts().sort_values()\n",
    "value_b = train_pd[train_pd['binary-label']==1]['source'].value_counts().sort_values()\n",
    "\n",
    "def create_x(t, w, n, d):\n",
    "    return [t*x + w*n for x in range(d)]\n",
    "value_a_x = create_x(2, 0.8, 1, 6)\n",
    "value_b_x = create_x(2, 0.8, 2, 6)\n",
    "\n",
    "ax = plt.subplot()\n",
    "ax.bar(value_a_x, value_a.sort_index(),label ='binary-label=0',color = '#c47aff')\n",
    "ax.bar(value_b_x, value_b.sort_index(),label ='binary-label=1',color = '#7978ff')\n",
    "middle_x = [(a+b)/2 for (a,b) in zip(value_a_x, value_b_x)]\n",
    "ax.set_xticks(middle_x)\n",
    "ax.set_xticklabels(value_a.sort_index().keys(),rotation=30)\n",
    "plt.legend(loc='upper right')\n",
    "plt.show()"
   ]
  },
  {
   "cell_type": "markdown",
   "metadata": {},
   "source": [
    "### **5 : 문장 길이 확인**"
   ]
  },
  {
   "cell_type": "markdown",
   "metadata": {},
   "source": [
    "#### **5-1 : train data 문장 길이 확인**\n",
    "- sentence_1와 sentence_2의 평균 문장 길이는 23자, 10~25사이로 몰려있는 분포를 보임.\n",
    "- source별 문장 길이를 살펴봤을 때, 왼쪽으로 치우친 분포로 모두 비슷한 양상을 띄고 있음."
   ]
  },
  {
   "cell_type": "code",
   "execution_count": 23,
   "metadata": {},
   "outputs": [
    {
     "name": "stdout",
     "output_type": "stream",
     "text": [
      "Max sentence_1 Length:  98\n",
      "Min sentence_1 Length:  9\n",
      "Mean sentence_1 Lenght:  23.258151008151007 \n",
      "\n",
      "Max sentence_2 Length:  114\n",
      "Min sentence_2 Length:  5\n",
      "Mean sentence_2 Lenght:  23.726404976404975\n"
     ]
    }
   ],
   "source": [
    "max_len = np.max(train_pd['sentence_1'].str.len())\n",
    "min_len = np.min(train_pd['sentence_1'].str.len())\n",
    "mean_len = np.mean(train_pd['sentence_1'].str.len())\n",
    "\n",
    "print('Max sentence_1 Length: ', max_len)\n",
    "print('Min sentence_1 Length: ', min_len)\n",
    "print('Mean sentence_1 Lenght: ', mean_len, '\\n')\n",
    "\n",
    "max_len = np.max(train_pd['sentence_2'].str.len())\n",
    "min_len = np.min(train_pd['sentence_2'].str.len())\n",
    "mean_len = np.mean(train_pd['sentence_2'].str.len())\n",
    "\n",
    "print('Max sentence_2 Length: ', max_len)\n",
    "print('Min sentence_2 Length: ', min_len)\n",
    "print('Mean sentence_2 Lenght: ', mean_len)"
   ]
  },
  {
   "cell_type": "code",
   "execution_count": 24,
   "metadata": {},
   "outputs": [
    {
     "data": {
      "image/png": "[encoded data removed]",
      "text/plain": [
       "<Figure size 720x540 with 1 Axes>"
      ]
     },
     "metadata": {
      "needs_background": "light"
     },
     "output_type": "display_data"
    }
   ],
   "source": [
    "from collections import Counter\n",
    "xtick = [i*5 for i in range(21)]\n",
    "plt.figure(figsize=(10,7.5))\n",
    "plt.hist(train_pd['sentence_1'].str.len(), alpha=0.5, color='orange',label = 'sentence_1')\n",
    "plt.hist(train_pd['sentence_2'].str.len(), alpha=0.5, color='#bce29e',label = 'sentence_2')\n",
    "plt.xticks(xtick)\n",
    "plt.legend()\n",
    "#plt.tight_layout(rect=[0, 0.03, 1, 0.95]) # 레이아웃 설정\n",
    "\n",
    "plt.show()"
   ]
  },
  {
   "cell_type": "code",
   "execution_count": 25,
   "metadata": {},
   "outputs": [
    {
     "data": {
      "image/png": "[encoded data removed]",
      "text/plain": [
       "<Figure size 576x432 with 6 Axes>"
      ]
     },
     "metadata": {
      "needs_background": "light"
     },
     "output_type": "display_data"
    }
   ],
   "source": [
    "f, axes = plt.subplots(3, 2, figsize=(8, 6), sharex=True)\n",
    "\n",
    "a = sns.histplot(train_pd[train_pd['source']=='nsmc-rtt']['sentence_1'].str.len(), color=\"blue\", ax=axes[0, 0])\n",
    "b = sns.histplot(train_pd[train_pd['source']=='nsmc-sampled']['sentence_1'].str.len(), color=\"red\", ax=axes[0, 1])\n",
    "a.set_title('nsmc-rtt')\n",
    "b.set_title('nsmc-sampled')\n",
    "\n",
    "c = sns.histplot(train_pd[train_pd['source']=='petition-rtt']['sentence_1'].str.len(), color=\"yellow\", ax=axes[1, 0])\n",
    "d = sns.histplot(train_pd[train_pd['source']=='petition-sampled']['sentence_1'].str.len(), color=\"green\", ax=axes[1, 1])\n",
    "c.set_title('petition-rtt')\n",
    "d.set_title('petition-sampled')\n",
    "\n",
    "e = sns.histplot(train_pd[train_pd['source']=='slack-rtt']['sentence_1'].str.len(), color=\"yellow\", ax=axes[2, 0])\n",
    "f = sns.histplot(train_pd[train_pd['source']=='slack-sampled']['sentence_1'].str.len(), color=\"green\", ax=axes[2, 1])\n",
    "e.set_title('slackn-rtt')\n",
    "f.set_title('slack-sampled')\n",
    "\n",
    "plt.show()"
   ]
  },
  {
   "cell_type": "code",
   "execution_count": 26,
   "metadata": {},
   "outputs": [],
   "source": [
    "# f, axes = plt.subplots(3, 2, figsize=(8, 6), sharex=True)\n",
    "\n",
    "# a = sns.histplot(train_pd[train_pd['source']=='nsmc-rtt']['sentence_2'].str.len(), color=\"blue\", ax=axes[0, 0])\n",
    "# b = sns.histplot(train_pd[train_pd['source']=='nsmc-sampled']['sentence_2'].str.len(), color=\"red\", ax=axes[0, 1])\n",
    "# a.set_title('nsmc-rtt')\n",
    "# b.set_title('nsmc-sampled')\n",
    "\n",
    "# c = sns.histplot(train_pd[train_pd['source']=='petition-rtt']['sentence_2'].str.len(), color=\"yellow\", ax=axes[1, 0])\n",
    "# d = sns.histplot(train_pd[train_pd['source']=='petition-sampled']['sentence_2'].str.len(), color=\"green\", ax=axes[1, 1])\n",
    "# c.set_title('petition-rtt')\n",
    "# d.set_title('petition-sampled')\n",
    "\n",
    "# e = sns.histplot(train_pd[train_pd['source']=='slack-rtt']['sentence_2'].str.len(), color=\"yellow\", ax=axes[2, 0])\n",
    "# f = sns.histplot(train_pd[train_pd['source']=='slack-sampled']['sentence_2'].str.len(), color=\"green\", ax=axes[2, 1])\n",
    "# e.set_title('slackn-rtt')\n",
    "# f.set_title('slack-sampled')\n",
    "\n",
    "# plt.show()"
   ]
  },
  {
   "cell_type": "markdown",
   "metadata": {},
   "source": [
    "#### **5-2 : dev data 문장 길이 확인**"
   ]
  },
  {
   "cell_type": "markdown",
   "metadata": {},
   "source": [
    "- dev 데이터의 문장 길이도 대체적으로 10~25로 몰려있는 데이터 분포를 보임\n",
    "- dev 데이터의 문장 길이 분포와 train 데이터의 문장 길이 분포는 대체적으로 유사한 분포를 보임"
   ]
  },
  {
   "cell_type": "code",
   "execution_count": 27,
   "metadata": {},
   "outputs": [
    {
     "name": "stdout",
     "output_type": "stream",
     "text": [
      "Max sentence_1 Length:  97\n",
      "Min sentence_1 Length:  10\n",
      "Mean sentence_1 Lenght:  23.381818181818183 \n",
      "\n",
      "Max sentence_2 Length:  104\n",
      "Min sentence_2 Length:  6\n",
      "Mean sentence_2 Lenght:  24.167272727272728\n"
     ]
    }
   ],
   "source": [
    "max_len = np.max(dev_pd['sentence_1'].str.len())\n",
    "min_len = np.min(dev_pd['sentence_1'].str.len())\n",
    "mean_len = np.mean(dev_pd['sentence_1'].str.len())\n",
    "\n",
    "print('Max sentence_1 Length: ', max_len)\n",
    "print('Min sentence_1 Length: ', min_len)\n",
    "print('Mean sentence_1 Lenght: ', mean_len, '\\n')\n",
    "\n",
    "max_len = np.max(dev_pd['sentence_2'].str.len())\n",
    "min_len = np.min(dev_pd['sentence_2'].str.len())\n",
    "mean_len = np.mean(dev_pd['sentence_2'].str.len())\n",
    "\n",
    "print('Max sentence_2 Length: ', max_len)\n",
    "print('Min sentence_2 Length: ', min_len)\n",
    "print('Mean sentence_2 Lenght: ', mean_len)"
   ]
  },
  {
   "cell_type": "code",
   "execution_count": 28,
   "metadata": {},
   "outputs": [
    {
     "data": {
      "image/png": "[encoded data removed]",
      "text/plain": [
       "<Figure size 720x540 with 1 Axes>"
      ]
     },
     "metadata": {
      "needs_background": "light"
     },
     "output_type": "display_data"
    }
   ],
   "source": [
    "from collections import Counter\n",
    "xtick = [i*5 for i in range(21)]\n",
    "plt.figure(figsize=(10,7.5))\n",
    "plt.hist(dev_pd['sentence_1'].str.len(), alpha=0.5, color='orange',label = 'sentence_1')\n",
    "plt.hist(dev_pd['sentence_2'].str.len(), alpha=0.5, color='#bce29e',label = 'sentence_2')\n",
    "plt.xticks(xtick)\n",
    "plt.legend()\n",
    "#plt.tight_layout(rect=[0, 0.03, 1, 0.95]) # 레이아웃 설정\n",
    "\n",
    "plt.show()"
   ]
  },
  {
   "cell_type": "markdown",
   "metadata": {},
   "source": [
    "---"
   ]
  }
 ],
 "metadata": {
  "kernelspec": {
   "display_name": "Python 3.6.9 64-bit",
   "language": "python",
   "name": "python3"
  },
  "language_info": {
   "codemirror_mode": {
    "name": "ipython",
    "version": 3
   },
   "file_extension": ".py",
   "mimetype": "text/x-python",
   "name": "python",
   "nbconvert_exporter": "python",
   "pygments_lexer": "ipython3",
   "version": "3.6.9"
  },
  "vscode": {
   "interpreter": {
    "hash": "31f2aee4e71d21fbe5cf8b01ff0e069b9275f58929596ceb00d14d90e3e16cd6"
   }
  }
 },
 "nbformat": 4,
 "nbformat_minor": 4
}
